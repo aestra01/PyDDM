{
 "cells": [
  {
   "cell_type": "markdown",
   "metadata": {},
   "source": [
    "# Differential Dynamic Microscopy"
   ]
  },
  {
   "cell_type": "markdown",
   "metadata": {},
   "source": [
    "Here, we go through the steps of performing DDM analysis with the PyDDM package as detailed in our JoVE manuscript. "
   ]
  },
  {
   "cell_type": "markdown",
   "metadata": {},
   "source": [
    "## 1. Software installation"
   ]
  },
  {
   "cell_type": "markdown",
   "metadata": {},
   "source": [
    "We will ned to import [numpy](https://numpy.org/), [matplotlib](https://matplotlib.org/), [xarray](https://xarray.pydata.org/en/stable/), and \n",
    "[yaml](https://pyyaml.org/). \n",
    "We will also import the [PyDDM](https://rmcgorty.github.io/PyDDM/) package. If a `ModuleNotFoundError` comes up, you may need to install one of these packages."
   ]
  },
  {
   "cell_type": "code",
   "execution_count": 1,
   "metadata": {},
   "outputs": [],
   "source": [
    "%matplotlib inline\n",
    "from matplotlib import pyplot as plt\n",
    "import numpy as np\n",
    "import yaml\n",
    "import sys\n",
    "sys.path.append(\"../PyDDM\") #must point to the PyDDM folder\n",
    "import ddm_analysis_and_fitting as ddm"
   ]
  },
  {
   "cell_type": "code",
   "execution_count": 2,
   "metadata": {},
   "outputs": [],
   "source": [
    "#Just for formating this notebook, not necessary for the DDM analysis\n",
    "import IPython.display\n",
    "from IPython.display import Markdown"
   ]
  },
  {
   "cell_type": "markdown",
   "metadata": {},
   "source": [
    "<div class=\"alert alert-block alert-info\">\n",
    "<b>Tip:</b> Use blue boxes (alert-info) for tips and notes. \n",
    "If it’s a note, you don’t have to include the word “Note”.\n",
    "</div>"
   ]
  },
  {
   "cell_type": "markdown",
   "metadata": {},
   "source": [
    "## 2. Planning the imaging session"
   ]
  },
  {
   "cell_type": "markdown",
   "metadata": {},
   "source": [
    "### 2.1 Length scales probed"
   ]
  },
  {
   "cell_type": "code",
   "execution_count": 3,
   "metadata": {},
   "outputs": [
    {
     "data": {
      "text/markdown": [
       "Minimum wavevector: $0.08\\; \\mu$$m^{-1}$"
      ],
      "text/plain": [
       "<IPython.core.display.Markdown object>"
      ]
     },
     "metadata": {},
     "output_type": "display_data"
    },
    {
     "data": {
      "text/markdown": [
       "Maximum wavevector: $10.39\\; \\mu$$m^{-1}$"
      ],
      "text/plain": [
       "<IPython.core.display.Markdown object>"
      ]
     },
     "metadata": {},
     "output_type": "display_data"
    },
    {
     "data": {
      "text/markdown": [
       "Maximum wavevector based on optical resolution: $8.00\\; \\mu$$m^{-1}$"
      ],
      "text/plain": [
       "<IPython.core.display.Markdown object>"
      ]
     },
     "metadata": {},
     "output_type": "display_data"
    }
   ],
   "source": [
    "pixel_size = 0.3 #Size of pixel in microns\n",
    "image_dimension = 256 #Size of image, assumed to be square\n",
    "numerical_aperture = 0.7 #NA of the imaging objective lens\n",
    "wavelength_of_light = 0.550 #wavelength of light in microns\n",
    "\n",
    "wavevector_q = np.arange(0,image_dimension/2)*2*np.pi*(1./(image_dimension*pixel_size))\n",
    "max_q_based_on_NA = 2*np.pi*numerical_aperture/wavelength_of_light\n",
    "\n",
    "IPython.display.display(Markdown(rf\"Minimum wavevector: ${wavevector_q[1]:.2f}\\; \\mu$\"r\"$m^{-1}$\"))\n",
    "IPython.display.display(Markdown(rf\"Maximum wavevector: ${wavevector_q[-1]:.2f}\\; \\mu$\"r\"$m^{-1}$\"))\n",
    "IPython.display.display(Markdown(rf\"Maximum wavevector based on optical resolution: ${max_q_based_on_NA:.2f}\\; \\mu$\"r\"$m^{-1}$\"))"
   ]
  },
  {
   "cell_type": "markdown",
   "metadata": {},
   "source": [
    "The range of accessbible $q$-values is determined by the image dimension and the pixel size. The maximum $q$ may also be limited by the optical resolution of the microscope, which is determined by the numerical aperature of the microscope's imaging lens and the wavelength of light."
   ]
  },
  {
   "cell_type": "markdown",
   "metadata": {},
   "source": [
    "### 2.2 Time scales probed"
   ]
  },
  {
   "cell_type": "code",
   "execution_count": 5,
   "metadata": {},
   "outputs": [
    {
     "data": {
      "text/plain": [
       "<matplotlib.lines.Line2D at 0x2158a006370>"
      ]
     },
     "execution_count": 5,
     "metadata": {},
     "output_type": "execute_result"
    },
    {
     "data": {
      "image/png": "[encoded data removed]",
      "text/plain": [
       "<Figure size 432x288 with 1 Axes>"
      ]
     },
     "metadata": {
      "needs_background": "light"
     },
     "output_type": "display_data"
    }
   ],
   "source": [
    "frame_rate = 30 #Frame rate used in imaging experiments\n",
    "maximum_lag_frame = 500 #Maximum lag time in frames\n",
    "\n",
    "min_lag_time = 1.0/frame_rate\n",
    "max_lag_time = maximum_lag_frame / frame_rate\n",
    "\n",
    "expected_diffusion_coefficient = 2.0 #diffusion coeff in microns squared per second\n",
    "\n",
    "expected_decay_time = 1.0 / (wavevector_q[1:]**2 * expected_diffusion_coefficient)\n",
    "\n",
    "fig,ax = plt.subplots()\n",
    "ax.loglog(wavevector_q[1:], expected_decay_time, ':o', color='tab:blue')\n",
    "ax.set_xlabel(\"$q$ ($\\mu$m$^{-1}$)\")\n",
    "ax.set_ylabel(\"$\\\\tau_{expected}$ (s)\")\n",
    "ax.axhline(y = min_lag_time, color='tab:orange', lw=3, alpha=0.8, label=\"Minimum lag time\")\n",
    "ax.axhline(y = max_lag_time, color='tab:purple', lw=3, alpha=0.8, label='Maximum lag time')\n",
    "ax.axvline(x = max_q_based_on_NA, color='tab:red', lw=3, alpha=0.8)"
   ]
  },
  {
   "cell_type": "markdown",
   "metadata": {},
   "source": [
    "## 3. Image acquisition"
   ]
  },
  {
   "cell_type": "markdown",
   "metadata": {},
   "source": [
    "Based on the above analysis of the time and length scales accessible given frame rate, image series duration, and pixel size, acquire image sequence of, typically, at least 1000 frames. "
   ]
  },
  {
   "cell_type": "markdown",
   "metadata": {},
   "source": [
    "## 4. Parameter setup"
   ]
  },
  {
   "cell_type": "markdown",
   "metadata": {},
   "source": [
    "### 4.1 Copy the YAML file provided"
   ]
  },
  {
   "cell_type": "markdown",
   "metadata": {},
   "source": [
    "Make a copy of the file `example_parameter_file.yml` which can be found in the GitHub [PyDDM repository](https://github.com/rmcgorty/PyDDM). Modify the copied file with your values for the different parameters. \n",
    "\n",
    "Alternatively, one can create a Python dictionary of the metadata and parameters. To do so, we can create strings which make exactly the syntax used in the YAML file and then convert these strings to a dictionary. This method is what is shown below."
   ]
  },
  {
   "cell_type": "markdown",
   "metadata": {},
   "source": [
    "### 4.2 Image metadata"
   ]
  },
  {
   "cell_type": "code",
   "execution_count": 6,
   "metadata": {},
   "outputs": [],
   "source": [
    "parameters_data_location = \"\"\"\n",
    "DataDirectory: './'\n",
    "FileName: 'images_nobin_40x_128x128_8bit.tif'\n",
    "\"\"\"\n",
    "\n",
    "parameters_image_metadata = \"\"\"\n",
    "Metadata:\n",
    "  pixel_size: 0.242 # size of pixel in um\n",
    "  frame_rate: 41.7 #frames per second\n",
    "\"\"\""
   ]
  },
  {
   "cell_type": "markdown",
   "metadata": {},
   "source": [
    "For the DDM analysis, we must provide the `DataDirectory` and `FileName` for the data to analyze. Note that the image files may either be in TIFF format or ND2 format. \n",
    "\n",
    "Metadata for the recorded images must include `pixel_size` and `frame_rate`. The assume units for these parameters are microns and frames per second, respectively."
   ]
  },
  {
   "cell_type": "markdown",
   "metadata": {},
   "source": [
    "### 4.2 Analysis parameters"
   ]
  },
  {
   "cell_type": "code",
   "execution_count": 7,
   "metadata": {},
   "outputs": [],
   "source": [
    "parameters_analysis = \"\"\"\n",
    "Analysis_parameters:\n",
    "  number_lag_times: 40\n",
    "  last_lag_time: 600\n",
    "\"\"\""
   ]
  },
  {
   "cell_type": "markdown",
   "metadata": {},
   "source": [
    "Set the parameters for calculating the DDM matrix. In addition to the setting the number of lag times and the longest lag time to use, there are several other optional parameters that can be set. "
   ]
  },
  {
   "cell_type": "markdown",
   "metadata": {},
   "source": [
    "### 4.3 Fitting parameters"
   ]
  },
  {
   "cell_type": "code",
   "execution_count": 8,
   "metadata": {},
   "outputs": [],
   "source": [
    "parameters_fitting = \"\"\"\n",
    "Fitting_parameters:\n",
    "  model: 'DDM Matrix - Single Exponential' \n",
    "  Tau: [1.0, 0.001, 10]\n",
    "  StretchingExp: [1.0, 0.5, 1.1]\n",
    "  Amplitude: [1e2, 1, 1e6]\n",
    "  Background: [2.5e4, 0, 1e7]\n",
    "\"\"\""
   ]
  },
  {
   "cell_type": "markdown",
   "metadata": {},
   "source": [
    "Set the parameters for fitting the DDM matrix or the intermediate scattering function (ISF). Also, for each parameter in the model, specify the initial guess, lower bound, and upper bound. \n",
    "\n",
    "For a list of possible models to use, run the `print_fitting_models` function as shown below."
   ]
  },
  {
   "cell_type": "code",
   "execution_count": 9,
   "metadata": {
    "scrolled": true
   },
   "outputs": [
    {
     "name": "stdout",
     "output_type": "stream",
     "text": [
      "1: 'DDM Matrix - Single Exponential'\n",
      "2: 'DDM Matrix - Double Exponential'\n",
      "3: 'DDM Matrix - Exponential and Ballistic'\n",
      "4: 'DDM Matrix - Ballistic'\n",
      "5: 'DDM Matrix - Double Ballistic'\n",
      "6: 'DDM Matrix - Single Exponential - NonErgodic'\n",
      "7: 'ISF - Single Exponential'\n",
      "8: 'ISF - Double Exponential'\n",
      "9: 'ISF - Exponential and Ballistic'\n",
      "10: 'ISF - Ballistic'\n",
      "11: 'ISF - Double Ballistic'\n",
      "12: 'ISF - Single Exponential - NonErgodic'\n"
     ]
    }
   ],
   "source": [
    "ddm.print_fitting_models()"
   ]
  },
  {
   "cell_type": "markdown",
   "metadata": {},
   "source": [
    "## 5. Calculating the DDM matrix"
   ]
  },
  {
   "cell_type": "markdown",
   "metadata": {},
   "source": [
    "### 5.1 Initialize the analysis class"
   ]
  },
  {
   "cell_type": "code",
   "execution_count": 10,
   "metadata": {},
   "outputs": [
    {
     "name": "stdout",
     "output_type": "stream",
     "text": [
      "Provided metadata: {'pixel_size': 0.242, 'frame_rate': 41.7}\n",
      "Image shape: 3000-by-128-by-128\n",
      "Number of frames to use for analysis: 3000\n",
      "Maximum lag time (in frames): 600\n",
      "Number of lag times to compute DDM matrix: 40\n",
      "Using the full frame, dimensions: 128-by-128.\n"
     ]
    }
   ],
   "source": [
    "#First, concatenate the strings specifying the metadata and parameters\n",
    "ddm_analysis_parameters_str = parameters_data_location + parameters_image_metadata + \\\n",
    "                              parameters_analysis + parameters_fitting\n",
    "\n",
    "#Convert that string to a Python dictionary\n",
    "parameters_as_dictionary = yaml.safe_load(ddm_analysis_parameters_str)\n",
    "\n",
    "#Note that one could also pass to `DDM_Analysis` the path to the YAML file containing\n",
    "# the metadata and parameters\n",
    "ddm_calc = ddm.DDM_Analysis(parameters_as_dictionary)"
   ]
  },
  {
   "cell_type": "markdown",
   "metadata": {},
   "source": [
    "### 5.2 Calculate the DDM matrix"
   ]
  },
  {
   "cell_type": "code",
   "execution_count": 11,
   "metadata": {
    "scrolled": false
   },
   "outputs": [
    {
     "name": "stdout",
     "output_type": "stream",
     "text": [
      "DDM matrix took 37.04310441017151 seconds to compute.\n",
      " Background estimate ± std is 211.17 ± 1.49\n"
     ]
    },
    {
     "data": {
      "text/html": [
       "<div><svg style=\"position: absolute; width: 0; height: 0; overflow: hidden\">\n",
       "<defs>\n",
       "<symbol id=\"icon-database\" viewBox=\"0 0 32 32\">\n",
       "<path d=\"M16 0c-8.837 0-16 2.239-16 5v4c0 2.761 7.163 5 16 5s16-2.239 16-5v-4c0-2.761-7.163-5-16-5z\"></path>\n",
       "<path d=\"M16 17c-8.837 0-16-2.239-16-5v6c0 2.761 7.163 5 16 5s16-2.239 16-5v-6c0 2.761-7.163 5-16 5z\"></path>\n",
       "<path d=\"M16 26c-8.837 0-16-2.239-16-5v6c0 2.761 7.163 5 16 5s16-2.239 16-5v-6c0 2.761-7.163 5-16 5z\"></path>\n",
       "</symbol>\n",
       "<symbol id=\"icon-file-text2\" viewBox=\"0 0 32 32\">\n",
       "<path d=\"M28.681 7.159c-0.694-0.947-1.662-2.053-2.724-3.116s-2.169-2.030-3.116-2.724c-1.612-1.182-2.393-1.319-2.841-1.319h-15.5c-1.378 0-2.5 1.121-2.5 2.5v27c0 1.378 1.122 2.5 2.5 2.5h23c1.378 0 2.5-1.122 2.5-2.5v-19.5c0-0.448-0.137-1.23-1.319-2.841zM24.543 5.457c0.959 0.959 1.712 1.825 2.268 2.543h-4.811v-4.811c0.718 0.556 1.584 1.309 2.543 2.268zM28 29.5c0 0.271-0.229 0.5-0.5 0.5h-23c-0.271 0-0.5-0.229-0.5-0.5v-27c0-0.271 0.229-0.5 0.5-0.5 0 0 15.499-0 15.5 0v7c0 0.552 0.448 1 1 1h7v19.5z\"></path>\n",
       "<path d=\"M23 26h-14c-0.552 0-1-0.448-1-1s0.448-1 1-1h14c0.552 0 1 0.448 1 1s-0.448 1-1 1z\"></path>\n",
       "<path d=\"M23 22h-14c-0.552 0-1-0.448-1-1s0.448-1 1-1h14c0.552 0 1 0.448 1 1s-0.448 1-1 1z\"></path>\n",
       "<path d=\"M23 18h-14c-0.552 0-1-0.448-1-1s0.448-1 1-1h14c0.552 0 1 0.448 1 1s-0.448 1-1 1z\"></path>\n",
       "</symbol>\n",
       "</defs>\n",
       "</svg>\n",
       "<style>/* CSS stylesheet for displaying xarray objects in jupyterlab.\n",
       " *\n",
       " */\n",
       "\n",
       ":root {\n",
       "  --xr-font-color0: var(--jp-content-font-color0, rgba(0, 0, 0, 1));\n",
       "  --xr-font-color2: var(--jp-content-font-color2, rgba(0, 0, 0, 0.54));\n",
       "  --xr-font-color3: var(--jp-content-font-color3, rgba(0, 0, 0, 0.38));\n",
       "  --xr-border-color: var(--jp-border-color2, #e0e0e0);\n",
       "  --xr-disabled-color: var(--jp-layout-color3, #bdbdbd);\n",
       "  --xr-background-color: var(--jp-layout-color0, white);\n",
       "  --xr-background-color-row-even: var(--jp-layout-color1, white);\n",
       "  --xr-background-color-row-odd: var(--jp-layout-color2, #eeeeee);\n",
       "}\n",
       "\n",
       "html[theme=dark],\n",
       "body.vscode-dark {\n",
       "  --xr-font-color0: rgba(255, 255, 255, 1);\n",
       "  --xr-font-color2: rgba(255, 255, 255, 0.54);\n",
       "  --xr-font-color3: rgba(255, 255, 255, 0.38);\n",
       "  --xr-border-color: #1F1F1F;\n",
       "  --xr-disabled-color: #515151;\n",
       "  --xr-background-color: #111111;\n",
       "  --xr-background-color-row-even: #111111;\n",
       "  --xr-background-color-row-odd: #313131;\n",
       "}\n",
       "\n",
       ".xr-wrap {\n",
       "  display: block;\n",
       "  min-width: 300px;\n",
       "  max-width: 700px;\n",
       "}\n",
       "\n",
       ".xr-text-repr-fallback {\n",
       "  /* fallback to plain text repr when CSS is not injected (untrusted notebook) */\n",
       "  display: none;\n",
       "}\n",
       "\n",
       ".xr-header {\n",
       "  padding-top: 6px;\n",
       "  padding-bottom: 6px;\n",
       "  margin-bottom: 4px;\n",
       "  border-bottom: solid 1px var(--xr-border-color);\n",
       "}\n",
       "\n",
       ".xr-header > div,\n",
       ".xr-header > ul {\n",
       "  display: inline;\n",
       "  margin-top: 0;\n",
       "  margin-bottom: 0;\n",
       "}\n",
       "\n",
       ".xr-obj-type,\n",
       ".xr-array-name {\n",
       "  margin-left: 2px;\n",
       "  margin-right: 10px;\n",
       "}\n",
       "\n",
       ".xr-obj-type {\n",
       "  color: var(--xr-font-color2);\n",
       "}\n",
       "\n",
       ".xr-sections {\n",
       "  padding-left: 0 !important;\n",
       "  display: grid;\n",
       "  grid-template-columns: 150px auto auto 1fr 20px 20px;\n",
       "}\n",
       "\n",
       ".xr-section-item {\n",
       "  display: contents;\n",
       "}\n",
       "\n",
       ".xr-section-item input {\n",
       "  display: none;\n",
       "}\n",
       "\n",
       ".xr-section-item input + label {\n",
       "  color: var(--xr-disabled-color);\n",
       "}\n",
       "\n",
       ".xr-section-item input:enabled + label {\n",
       "  cursor: pointer;\n",
       "  color: var(--xr-font-color2);\n",
       "}\n",
       "\n",
       ".xr-section-item input:enabled + label:hover {\n",
       "  color: var(--xr-font-color0);\n",
       "}\n",
       "\n",
       ".xr-section-summary {\n",
       "  grid-column: 1;\n",
       "  color: var(--xr-font-color2);\n",
       "  font-weight: 500;\n",
       "}\n",
       "\n",
       ".xr-section-summary > span {\n",
       "  display: inline-block;\n",
       "  padding-left: 0.5em;\n",
       "}\n",
       "\n",
       ".xr-section-summary-in:disabled + label {\n",
       "  color: var(--xr-font-color2);\n",
       "}\n",
       "\n",
       ".xr-section-summary-in + label:before {\n",
       "  display: inline-block;\n",
       "  content: '►';\n",
       "  font-size: 11px;\n",
       "  width: 15px;\n",
       "  text-align: center;\n",
       "}\n",
       "\n",
       ".xr-section-summary-in:disabled + label:before {\n",
       "  color: var(--xr-disabled-color);\n",
       "}\n",
       "\n",
       ".xr-section-summary-in:checked + label:before {\n",
       "  content: '▼';\n",
       "}\n",
       "\n",
       ".xr-section-summary-in:checked + label > span {\n",
       "  display: none;\n",
       "}\n",
       "\n",
       ".xr-section-summary,\n",
       ".xr-section-inline-details {\n",
       "  padding-top: 4px;\n",
       "  padding-bottom: 4px;\n",
       "}\n",
       "\n",
       ".xr-section-inline-details {\n",
       "  grid-column: 2 / -1;\n",
       "}\n",
       "\n",
       ".xr-section-details {\n",
       "  display: none;\n",
       "  grid-column: 1 / -1;\n",
       "  margin-bottom: 5px;\n",
       "}\n",
       "\n",
       ".xr-section-summary-in:checked ~ .xr-section-details {\n",
       "  display: contents;\n",
       "}\n",
       "\n",
       ".xr-array-wrap {\n",
       "  grid-column: 1 / -1;\n",
       "  display: grid;\n",
       "  grid-template-columns: 20px auto;\n",
       "}\n",
       "\n",
       ".xr-array-wrap > label {\n",
       "  grid-column: 1;\n",
       "  vertical-align: top;\n",
       "}\n",
       "\n",
       ".xr-preview {\n",
       "  color: var(--xr-font-color3);\n",
       "}\n",
       "\n",
       ".xr-array-preview,\n",
       ".xr-array-data {\n",
       "  padding: 0 5px !important;\n",
       "  grid-column: 2;\n",
       "}\n",
       "\n",
       ".xr-array-data,\n",
       ".xr-array-in:checked ~ .xr-array-preview {\n",
       "  display: none;\n",
       "}\n",
       "\n",
       ".xr-array-in:checked ~ .xr-array-data,\n",
       ".xr-array-preview {\n",
       "  display: inline-block;\n",
       "}\n",
       "\n",
       ".xr-dim-list {\n",
       "  display: inline-block !important;\n",
       "  list-style: none;\n",
       "  padding: 0 !important;\n",
       "  margin: 0;\n",
       "}\n",
       "\n",
       ".xr-dim-list li {\n",
       "  display: inline-block;\n",
       "  padding: 0;\n",
       "  margin: 0;\n",
       "}\n",
       "\n",
       ".xr-dim-list:before {\n",
       "  content: '(';\n",
       "}\n",
       "\n",
       ".xr-dim-list:after {\n",
       "  content: ')';\n",
       "}\n",
       "\n",
       ".xr-dim-list li:not(:last-child):after {\n",
       "  content: ',';\n",
       "  padding-right: 5px;\n",
       "}\n",
       "\n",
       ".xr-has-index {\n",
       "  font-weight: bold;\n",
       "}\n",
       "\n",
       ".xr-var-list,\n",
       ".xr-var-item {\n",
       "  display: contents;\n",
       "}\n",
       "\n",
       ".xr-var-item > div,\n",
       ".xr-var-item label,\n",
       ".xr-var-item > .xr-var-name span {\n",
       "  background-color: var(--xr-background-color-row-even);\n",
       "  margin-bottom: 0;\n",
       "}\n",
       "\n",
       ".xr-var-item > .xr-var-name:hover span {\n",
       "  padding-right: 5px;\n",
       "}\n",
       "\n",
       ".xr-var-list > li:nth-child(odd) > div,\n",
       ".xr-var-list > li:nth-child(odd) > label,\n",
       ".xr-var-list > li:nth-child(odd) > .xr-var-name span {\n",
       "  background-color: var(--xr-background-color-row-odd);\n",
       "}\n",
       "\n",
       ".xr-var-name {\n",
       "  grid-column: 1;\n",
       "}\n",
       "\n",
       ".xr-var-dims {\n",
       "  grid-column: 2;\n",
       "}\n",
       "\n",
       ".xr-var-dtype {\n",
       "  grid-column: 3;\n",
       "  text-align: right;\n",
       "  color: var(--xr-font-color2);\n",
       "}\n",
       "\n",
       ".xr-var-preview {\n",
       "  grid-column: 4;\n",
       "}\n",
       "\n",
       ".xr-var-name,\n",
       ".xr-var-dims,\n",
       ".xr-var-dtype,\n",
       ".xr-preview,\n",
       ".xr-attrs dt {\n",
       "  white-space: nowrap;\n",
       "  overflow: hidden;\n",
       "  text-overflow: ellipsis;\n",
       "  padding-right: 10px;\n",
       "}\n",
       "\n",
       ".xr-var-name:hover,\n",
       ".xr-var-dims:hover,\n",
       ".xr-var-dtype:hover,\n",
       ".xr-attrs dt:hover {\n",
       "  overflow: visible;\n",
       "  width: auto;\n",
       "  z-index: 1;\n",
       "}\n",
       "\n",
       ".xr-var-attrs,\n",
       ".xr-var-data {\n",
       "  display: none;\n",
       "  background-color: var(--xr-background-color) !important;\n",
       "  padding-bottom: 5px !important;\n",
       "}\n",
       "\n",
       ".xr-var-attrs-in:checked ~ .xr-var-attrs,\n",
       ".xr-var-data-in:checked ~ .xr-var-data {\n",
       "  display: block;\n",
       "}\n",
       "\n",
       ".xr-var-data > table {\n",
       "  float: right;\n",
       "}\n",
       "\n",
       ".xr-var-name span,\n",
       ".xr-var-data,\n",
       ".xr-attrs {\n",
       "  padding-left: 25px !important;\n",
       "}\n",
       "\n",
       ".xr-attrs,\n",
       ".xr-var-attrs,\n",
       ".xr-var-data {\n",
       "  grid-column: 1 / -1;\n",
       "}\n",
       "\n",
       "dl.xr-attrs {\n",
       "  padding: 0;\n",
       "  margin: 0;\n",
       "  display: grid;\n",
       "  grid-template-columns: 125px auto;\n",
       "}\n",
       "\n",
       ".xr-attrs dt,\n",
       ".xr-attrs dd {\n",
       "  padding: 0;\n",
       "  margin: 0;\n",
       "  float: left;\n",
       "  padding-right: 10px;\n",
       "  width: auto;\n",
       "}\n",
       "\n",
       ".xr-attrs dt {\n",
       "  font-weight: normal;\n",
       "  grid-column: 1;\n",
       "}\n",
       "\n",
       ".xr-attrs dt:hover span {\n",
       "  display: inline-block;\n",
       "  background: var(--xr-background-color);\n",
       "  padding-right: 10px;\n",
       "}\n",
       "\n",
       ".xr-attrs dd {\n",
       "  grid-column: 2;\n",
       "  white-space: pre-wrap;\n",
       "  word-break: break-all;\n",
       "}\n",
       "\n",
       ".xr-icon-database,\n",
       ".xr-icon-file-text2 {\n",
       "  display: inline-block;\n",
       "  vertical-align: middle;\n",
       "  width: 1em;\n",
       "  height: 1.5em !important;\n",
       "  stroke-width: 0;\n",
       "  stroke: currentColor;\n",
       "  fill: currentColor;\n",
       "}\n",
       "</style><pre class='xr-text-repr-fallback'>&lt;xarray.Dataset&gt;\n",
       "Dimensions:           (lagtime: 40, q_y: 128, q_x: 128, q: 64, y: 128, x: 128, frames: 40)\n",
       "Coordinates:\n",
       "  * lagtime           (lagtime) float64 0.02398 0.04796 0.07194 ... 12.59 14.36\n",
       "    framelag          (frames) int32 1 2 3 4 5 6 7 ... 308 352 402 459 525 599\n",
       "  * q_y               (q_y) float64 -12.98 -12.78 -12.58 ... 12.37 12.58 12.78\n",
       "  * q_x               (q_x) float64 -12.98 -12.78 -12.58 ... 12.37 12.58 12.78\n",
       "  * q                 (q) float64 0.0 0.2028 0.4057 0.6085 ... 12.37 12.58 12.78\n",
       "  * y                 (y) int32 0 1 2 3 4 5 6 7 ... 121 122 123 124 125 126 127\n",
       "  * x                 (x) int32 0 1 2 3 4 5 6 7 ... 121 122 123 124 125 126 127\n",
       "Dimensions without coordinates: frames\n",
       "Data variables:\n",
       "    ddm_matrix_full   (lagtime, q_y, q_x) float64 194.5 183.5 ... 192.0 196.8\n",
       "    ddm_matrix        (lagtime, q) float64 0.0 294.2 321.4 ... 207.8 201.1 200.4\n",
       "    first_image       (y, x) float64 128.0 149.0 173.0 ... 175.0 229.0 215.0\n",
       "    avg_image_ft      (q) float64 0.0 1.293e+05 5.225e+03 ... 105.3 104.7 105.3\n",
       "    num_pairs_per_dt  (lagtime) int32 2999 2998 2997 1498 1498 ... 20 17 15 13\n",
       "    B                 float64 211.2\n",
       "    B_std             float64 1.491\n",
       "    Amplitude         (q) float64 -211.2 2.585e+05 1.024e+04 ... -1.699 -0.52\n",
       "    ISF               (lagtime, q) float64 0.0 0.9997 0.9892 ... -4.952 -19.73\n",
       "Attributes: (12/14)\n",
       "    units:             Intensity\n",
       "    lagtime:           sec\n",
       "    q:                 μm$^{-1}$\n",
       "    x:                 pixels\n",
       "    y:                 pixels\n",
       "    info:              ddm_matrix is the averages of FFT difference images, r...\n",
       "    ...                ...\n",
       "    DataDirectory:     ./\n",
       "    FileName:          images_nobin_40x_128x128_8bit.tif\n",
       "    pixel_size:        0.242\n",
       "    frame_rate:        41.7\n",
       "    number_lag_times:  40\n",
       "    last_lag_time:     600</pre><div class='xr-wrap' hidden><div class='xr-header'><div class='xr-obj-type'>xarray.Dataset</div></div><ul class='xr-sections'><li class='xr-section-item'><input id='section-6f4bb3bd-8ae2-4bfa-9b6f-5b1e753c5ddf' class='xr-section-summary-in' type='checkbox' disabled ><label for='section-6f4bb3bd-8ae2-4bfa-9b6f-5b1e753c5ddf' class='xr-section-summary'  title='Expand/collapse section'>Dimensions:</label><div class='xr-section-inline-details'><ul class='xr-dim-list'><li><span class='xr-has-index'>lagtime</span>: 40</li><li><span class='xr-has-index'>q_y</span>: 128</li><li><span class='xr-has-index'>q_x</span>: 128</li><li><span class='xr-has-index'>q</span>: 64</li><li><span class='xr-has-index'>y</span>: 128</li><li><span class='xr-has-index'>x</span>: 128</li><li><span>frames</span>: 40</li></ul></div><div class='xr-section-details'></div></li><li class='xr-section-item'><input id='section-c6d67a68-8a4c-4936-97c4-48a866594481' class='xr-section-summary-in' type='checkbox'  checked><label for='section-c6d67a68-8a4c-4936-97c4-48a866594481' class='xr-section-summary' >Coordinates: <span>(7)</span></label><div class='xr-section-inline-details'></div><div class='xr-section-details'><ul class='xr-var-list'><li class='xr-var-item'><div class='xr-var-name'><span class='xr-has-index'>lagtime</span></div><div class='xr-var-dims'>(lagtime)</div><div class='xr-var-dtype'>float64</div><div class='xr-var-preview xr-preview'>0.02398 0.04796 ... 12.59 14.36</div><input id='attrs-b07d1d15-db77-41d0-9795-025586763e67' class='xr-var-attrs-in' type='checkbox' disabled><label for='attrs-b07d1d15-db77-41d0-9795-025586763e67' title='Show/Hide attributes'><svg class='icon xr-icon-file-text2'><use xlink:href='#icon-file-text2'></use></svg></label><input id='data-351da078-6a7c-468c-ae1d-4c8e67a936fc' class='xr-var-data-in' type='checkbox'><label for='data-351da078-6a7c-468c-ae1d-4c8e67a936fc' title='Show/Hide data repr'><svg class='icon xr-icon-database'><use xlink:href='#icon-database'></use></svg></label><div class='xr-var-attrs'><dl class='xr-attrs'></dl></div><div class='xr-var-data'><pre>array([ 0.023981,  0.047962,  0.071942,  0.095923,  0.119904,  0.143885,\n",
       "        0.167866,  0.191847,  0.215827,  0.263789,  0.28777 ,  0.335731,\n",
       "        0.383693,  0.431655,  0.503597,  0.57554 ,  0.647482,  0.743405,\n",
       "        0.863309,  0.983213,  1.127098,  1.294964,  1.486811,  1.702638,\n",
       "        1.942446,  2.206235,  2.541966,  2.901679,  3.309353,  3.788969,\n",
       "        4.316547,  4.940048,  5.659472,  6.450839,  7.386091,  8.441247,\n",
       "        9.640288, 11.007194, 12.589928, 14.364508])</pre></div></li><li class='xr-var-item'><div class='xr-var-name'><span>framelag</span></div><div class='xr-var-dims'>(frames)</div><div class='xr-var-dtype'>int32</div><div class='xr-var-preview xr-preview'>1 2 3 4 5 6 ... 352 402 459 525 599</div><input id='attrs-b535e75d-b53a-4767-a8d2-cbd208098a96' class='xr-var-attrs-in' type='checkbox' disabled><label for='attrs-b535e75d-b53a-4767-a8d2-cbd208098a96' title='Show/Hide attributes'><svg class='icon xr-icon-file-text2'><use xlink:href='#icon-file-text2'></use></svg></label><input id='data-d9d88c17-9950-428d-a854-b0735c53a52a' class='xr-var-data-in' type='checkbox'><label for='data-d9d88c17-9950-428d-a854-b0735c53a52a' title='Show/Hide data repr'><svg class='icon xr-icon-database'><use xlink:href='#icon-database'></use></svg></label><div class='xr-var-attrs'><dl class='xr-attrs'></dl></div><div class='xr-var-data'><pre>array([  1,   2,   3,   4,   5,   6,   7,   8,   9,  11,  12,  14,  16,\n",
       "        18,  21,  24,  27,  31,  36,  41,  47,  54,  62,  71,  81,  92,\n",
       "       106, 121, 138, 158, 180, 206, 236, 269, 308, 352, 402, 459, 525,\n",
       "       599])</pre></div></li><li class='xr-var-item'><div class='xr-var-name'><span class='xr-has-index'>q_y</span></div><div class='xr-var-dims'>(q_y)</div><div class='xr-var-dtype'>float64</div><div class='xr-var-preview xr-preview'>-12.98 -12.78 ... 12.58 12.78</div><input id='attrs-3ae82642-5704-41d7-929a-f4f8831f49f4' class='xr-var-attrs-in' type='checkbox' disabled><label for='attrs-3ae82642-5704-41d7-929a-f4f8831f49f4' title='Show/Hide attributes'><svg class='icon xr-icon-file-text2'><use xlink:href='#icon-file-text2'></use></svg></label><input id='data-520e96c6-44cf-43be-abbc-c1bd3d9f5689' class='xr-var-data-in' type='checkbox'><label for='data-520e96c6-44cf-43be-abbc-c1bd3d9f5689' title='Show/Hide data repr'><svg class='icon xr-icon-database'><use xlink:href='#icon-database'></use></svg></label><div class='xr-var-attrs'><dl class='xr-attrs'></dl></div><div class='xr-var-data'><pre>array([-12.981788, -12.778947, -12.576107, -12.373267, -12.170426, -11.967586,\n",
       "       -11.764745, -11.561905, -11.359064, -11.156224, -10.953383, -10.750543,\n",
       "       -10.547703, -10.344862, -10.142022,  -9.939181,  -9.736341,  -9.5335  ,\n",
       "        -9.33066 ,  -9.12782 ,  -8.924979,  -8.722139,  -8.519298,  -8.316458,\n",
       "        -8.113617,  -7.910777,  -7.707937,  -7.505096,  -7.302256,  -7.099415,\n",
       "        -6.896575,  -6.693734,  -6.490894,  -6.288053,  -6.085213,  -5.882373,\n",
       "        -5.679532,  -5.476692,  -5.273851,  -5.071011,  -4.86817 ,  -4.66533 ,\n",
       "        -4.46249 ,  -4.259649,  -4.056809,  -3.853968,  -3.651128,  -3.448287,\n",
       "        -3.245447,  -3.042607,  -2.839766,  -2.636926,  -2.434085,  -2.231245,\n",
       "        -2.028404,  -1.825564,  -1.622723,  -1.419883,  -1.217043,  -1.014202,\n",
       "        -0.811362,  -0.608521,  -0.405681,  -0.20284 ,   0.      ,   0.20284 ,\n",
       "         0.405681,   0.608521,   0.811362,   1.014202,   1.217043,   1.419883,\n",
       "         1.622723,   1.825564,   2.028404,   2.231245,   2.434085,   2.636926,\n",
       "         2.839766,   3.042607,   3.245447,   3.448287,   3.651128,   3.853968,\n",
       "         4.056809,   4.259649,   4.46249 ,   4.66533 ,   4.86817 ,   5.071011,\n",
       "         5.273851,   5.476692,   5.679532,   5.882373,   6.085213,   6.288053,\n",
       "         6.490894,   6.693734,   6.896575,   7.099415,   7.302256,   7.505096,\n",
       "         7.707937,   7.910777,   8.113617,   8.316458,   8.519298,   8.722139,\n",
       "         8.924979,   9.12782 ,   9.33066 ,   9.5335  ,   9.736341,   9.939181,\n",
       "        10.142022,  10.344862,  10.547703,  10.750543,  10.953383,  11.156224,\n",
       "        11.359064,  11.561905,  11.764745,  11.967586,  12.170426,  12.373267,\n",
       "        12.576107,  12.778947])</pre></div></li><li class='xr-var-item'><div class='xr-var-name'><span class='xr-has-index'>q_x</span></div><div class='xr-var-dims'>(q_x)</div><div class='xr-var-dtype'>float64</div><div class='xr-var-preview xr-preview'>-12.98 -12.78 ... 12.58 12.78</div><input id='attrs-005135ca-6e2f-458a-a332-72e8d5dc543d' class='xr-var-attrs-in' type='checkbox' disabled><label for='attrs-005135ca-6e2f-458a-a332-72e8d5dc543d' title='Show/Hide attributes'><svg class='icon xr-icon-file-text2'><use xlink:href='#icon-file-text2'></use></svg></label><input id='data-f9f74cf0-05f2-4a5e-8605-b718cbe0e081' class='xr-var-data-in' type='checkbox'><label for='data-f9f74cf0-05f2-4a5e-8605-b718cbe0e081' title='Show/Hide data repr'><svg class='icon xr-icon-database'><use xlink:href='#icon-database'></use></svg></label><div class='xr-var-attrs'><dl class='xr-attrs'></dl></div><div class='xr-var-data'><pre>array([-12.981788, -12.778947, -12.576107, -12.373267, -12.170426, -11.967586,\n",
       "       -11.764745, -11.561905, -11.359064, -11.156224, -10.953383, -10.750543,\n",
       "       -10.547703, -10.344862, -10.142022,  -9.939181,  -9.736341,  -9.5335  ,\n",
       "        -9.33066 ,  -9.12782 ,  -8.924979,  -8.722139,  -8.519298,  -8.316458,\n",
       "        -8.113617,  -7.910777,  -7.707937,  -7.505096,  -7.302256,  -7.099415,\n",
       "        -6.896575,  -6.693734,  -6.490894,  -6.288053,  -6.085213,  -5.882373,\n",
       "        -5.679532,  -5.476692,  -5.273851,  -5.071011,  -4.86817 ,  -4.66533 ,\n",
       "        -4.46249 ,  -4.259649,  -4.056809,  -3.853968,  -3.651128,  -3.448287,\n",
       "        -3.245447,  -3.042607,  -2.839766,  -2.636926,  -2.434085,  -2.231245,\n",
       "        -2.028404,  -1.825564,  -1.622723,  -1.419883,  -1.217043,  -1.014202,\n",
       "        -0.811362,  -0.608521,  -0.405681,  -0.20284 ,   0.      ,   0.20284 ,\n",
       "         0.405681,   0.608521,   0.811362,   1.014202,   1.217043,   1.419883,\n",
       "         1.622723,   1.825564,   2.028404,   2.231245,   2.434085,   2.636926,\n",
       "         2.839766,   3.042607,   3.245447,   3.448287,   3.651128,   3.853968,\n",
       "         4.056809,   4.259649,   4.46249 ,   4.66533 ,   4.86817 ,   5.071011,\n",
       "         5.273851,   5.476692,   5.679532,   5.882373,   6.085213,   6.288053,\n",
       "         6.490894,   6.693734,   6.896575,   7.099415,   7.302256,   7.505096,\n",
       "         7.707937,   7.910777,   8.113617,   8.316458,   8.519298,   8.722139,\n",
       "         8.924979,   9.12782 ,   9.33066 ,   9.5335  ,   9.736341,   9.939181,\n",
       "        10.142022,  10.344862,  10.547703,  10.750543,  10.953383,  11.156224,\n",
       "        11.359064,  11.561905,  11.764745,  11.967586,  12.170426,  12.373267,\n",
       "        12.576107,  12.778947])</pre></div></li><li class='xr-var-item'><div class='xr-var-name'><span class='xr-has-index'>q</span></div><div class='xr-var-dims'>(q)</div><div class='xr-var-dtype'>float64</div><div class='xr-var-preview xr-preview'>0.0 0.2028 0.4057 ... 12.58 12.78</div><input id='attrs-96a52a41-a755-4cea-97a0-39b3c7a085f7' class='xr-var-attrs-in' type='checkbox' disabled><label for='attrs-96a52a41-a755-4cea-97a0-39b3c7a085f7' title='Show/Hide attributes'><svg class='icon xr-icon-file-text2'><use xlink:href='#icon-file-text2'></use></svg></label><input id='data-14b2ebfc-166e-4dbe-ad0a-0ee07cc31ece' class='xr-var-data-in' type='checkbox'><label for='data-14b2ebfc-166e-4dbe-ad0a-0ee07cc31ece' title='Show/Hide data repr'><svg class='icon xr-icon-database'><use xlink:href='#icon-database'></use></svg></label><div class='xr-var-attrs'><dl class='xr-attrs'></dl></div><div class='xr-var-data'><pre>array([ 0.      ,  0.20284 ,  0.405681,  0.608521,  0.811362,  1.014202,\n",
       "        1.217043,  1.419883,  1.622723,  1.825564,  2.028404,  2.231245,\n",
       "        2.434085,  2.636926,  2.839766,  3.042607,  3.245447,  3.448287,\n",
       "        3.651128,  3.853968,  4.056809,  4.259649,  4.46249 ,  4.66533 ,\n",
       "        4.86817 ,  5.071011,  5.273851,  5.476692,  5.679532,  5.882373,\n",
       "        6.085213,  6.288053,  6.490894,  6.693734,  6.896575,  7.099415,\n",
       "        7.302256,  7.505096,  7.707937,  7.910777,  8.113617,  8.316458,\n",
       "        8.519298,  8.722139,  8.924979,  9.12782 ,  9.33066 ,  9.5335  ,\n",
       "        9.736341,  9.939181, 10.142022, 10.344862, 10.547703, 10.750543,\n",
       "       10.953383, 11.156224, 11.359064, 11.561905, 11.764745, 11.967586,\n",
       "       12.170426, 12.373267, 12.576107, 12.778947])</pre></div></li><li class='xr-var-item'><div class='xr-var-name'><span class='xr-has-index'>y</span></div><div class='xr-var-dims'>(y)</div><div class='xr-var-dtype'>int32</div><div class='xr-var-preview xr-preview'>0 1 2 3 4 5 ... 123 124 125 126 127</div><input id='attrs-bdada5ed-b578-4cfe-9d09-5f8db6ad8c64' class='xr-var-attrs-in' type='checkbox' disabled><label for='attrs-bdada5ed-b578-4cfe-9d09-5f8db6ad8c64' title='Show/Hide attributes'><svg class='icon xr-icon-file-text2'><use xlink:href='#icon-file-text2'></use></svg></label><input id='data-1ef938f5-ca05-482a-bb05-c05c3317a5f5' class='xr-var-data-in' type='checkbox'><label for='data-1ef938f5-ca05-482a-bb05-c05c3317a5f5' title='Show/Hide data repr'><svg class='icon xr-icon-database'><use xlink:href='#icon-database'></use></svg></label><div class='xr-var-attrs'><dl class='xr-attrs'></dl></div><div class='xr-var-data'><pre>array([  0,   1,   2,   3,   4,   5,   6,   7,   8,   9,  10,  11,  12,  13,\n",
       "        14,  15,  16,  17,  18,  19,  20,  21,  22,  23,  24,  25,  26,  27,\n",
       "        28,  29,  30,  31,  32,  33,  34,  35,  36,  37,  38,  39,  40,  41,\n",
       "        42,  43,  44,  45,  46,  47,  48,  49,  50,  51,  52,  53,  54,  55,\n",
       "        56,  57,  58,  59,  60,  61,  62,  63,  64,  65,  66,  67,  68,  69,\n",
       "        70,  71,  72,  73,  74,  75,  76,  77,  78,  79,  80,  81,  82,  83,\n",
       "        84,  85,  86,  87,  88,  89,  90,  91,  92,  93,  94,  95,  96,  97,\n",
       "        98,  99, 100, 101, 102, 103, 104, 105, 106, 107, 108, 109, 110, 111,\n",
       "       112, 113, 114, 115, 116, 117, 118, 119, 120, 121, 122, 123, 124, 125,\n",
       "       126, 127])</pre></div></li><li class='xr-var-item'><div class='xr-var-name'><span class='xr-has-index'>x</span></div><div class='xr-var-dims'>(x)</div><div class='xr-var-dtype'>int32</div><div class='xr-var-preview xr-preview'>0 1 2 3 4 5 ... 123 124 125 126 127</div><input id='attrs-fc3c8f2f-90e1-4e96-9373-e5363f85b01c' class='xr-var-attrs-in' type='checkbox' disabled><label for='attrs-fc3c8f2f-90e1-4e96-9373-e5363f85b01c' title='Show/Hide attributes'><svg class='icon xr-icon-file-text2'><use xlink:href='#icon-file-text2'></use></svg></label><input id='data-1f17084d-cb5c-4fd9-976e-f85b1397ddfc' class='xr-var-data-in' type='checkbox'><label for='data-1f17084d-cb5c-4fd9-976e-f85b1397ddfc' title='Show/Hide data repr'><svg class='icon xr-icon-database'><use xlink:href='#icon-database'></use></svg></label><div class='xr-var-attrs'><dl class='xr-attrs'></dl></div><div class='xr-var-data'><pre>array([  0,   1,   2,   3,   4,   5,   6,   7,   8,   9,  10,  11,  12,  13,\n",
       "        14,  15,  16,  17,  18,  19,  20,  21,  22,  23,  24,  25,  26,  27,\n",
       "        28,  29,  30,  31,  32,  33,  34,  35,  36,  37,  38,  39,  40,  41,\n",
       "        42,  43,  44,  45,  46,  47,  48,  49,  50,  51,  52,  53,  54,  55,\n",
       "        56,  57,  58,  59,  60,  61,  62,  63,  64,  65,  66,  67,  68,  69,\n",
       "        70,  71,  72,  73,  74,  75,  76,  77,  78,  79,  80,  81,  82,  83,\n",
       "        84,  85,  86,  87,  88,  89,  90,  91,  92,  93,  94,  95,  96,  97,\n",
       "        98,  99, 100, 101, 102, 103, 104, 105, 106, 107, 108, 109, 110, 111,\n",
       "       112, 113, 114, 115, 116, 117, 118, 119, 120, 121, 122, 123, 124, 125,\n",
       "       126, 127])</pre></div></li></ul></div></li><li class='xr-section-item'><input id='section-61d27876-9fb3-4a1a-82f1-b743a3ee708e' class='xr-section-summary-in' type='checkbox'  checked><label for='section-61d27876-9fb3-4a1a-82f1-b743a3ee708e' class='xr-section-summary' >Data variables: <span>(9)</span></label><div class='xr-section-inline-details'></div><div class='xr-section-details'><ul class='xr-var-list'><li class='xr-var-item'><div class='xr-var-name'><span>ddm_matrix_full</span></div><div class='xr-var-dims'>(lagtime, q_y, q_x)</div><div class='xr-var-dtype'>float64</div><div class='xr-var-preview xr-preview'>194.5 183.5 189.9 ... 192.0 196.8</div><input id='attrs-fb7ccc82-3f9c-4c0e-9141-f8b1af05f1fb' class='xr-var-attrs-in' type='checkbox' disabled><label for='attrs-fb7ccc82-3f9c-4c0e-9141-f8b1af05f1fb' title='Show/Hide attributes'><svg class='icon xr-icon-file-text2'><use xlink:href='#icon-file-text2'></use></svg></label><input id='data-54c58747-9bb2-44bd-bcb8-3dea84e407c5' class='xr-var-data-in' type='checkbox'><label for='data-54c58747-9bb2-44bd-bcb8-3dea84e407c5' title='Show/Hide data repr'><svg class='icon xr-icon-database'><use xlink:href='#icon-database'></use></svg></label><div class='xr-var-attrs'><dl class='xr-attrs'></dl></div><div class='xr-var-data'><pre>array([[[194.53933642, 183.46865602, 189.88360447, ..., 185.13501835,\n",
       "         189.88360447, 183.46865602],\n",
       "        [180.54977527, 184.19554752, 188.62431121, ..., 190.98754022,\n",
       "         197.43847912, 186.62178023],\n",
       "        [192.70890797, 195.93098872, 189.09845247, ..., 190.12737145,\n",
       "         189.83523821, 192.21421257],\n",
       "        ...,\n",
       "        [178.74506797, 186.95925279, 189.9972449 , ..., 190.31796269,\n",
       "         193.86216905, 184.71498966],\n",
       "        [192.70890797, 192.21421257, 189.83523821, ..., 194.82373533,\n",
       "         189.09845247, 195.93098872],\n",
       "        [180.54977527, 186.62178023, 197.43847912, ..., 189.320714  ,\n",
       "         188.62431121, 184.19554752]],\n",
       "\n",
       "       [[192.53678443, 184.98536047, 183.00178339, ..., 189.93758386,\n",
       "         183.00178339, 184.98536047],\n",
       "        [182.22340665, 190.38208686, 185.90468391, ..., 188.79454507,\n",
       "         188.52514631, 188.48204681],\n",
       "        [192.71415943, 196.71513926, 189.84504279, ..., 187.27424593,\n",
       "         187.74393152, 186.99244495],\n",
       "...\n",
       "        [224.60947387, 108.81451286, 189.02957545, ..., 137.44506309,\n",
       "         348.30437843, 228.73579002],\n",
       "        [216.96920343, 166.46373793, 174.79469182, ..., 166.69258334,\n",
       "         126.31953212, 140.52349943],\n",
       "        [164.20961535, 169.57957548, 133.76022938, ..., 125.77861768,\n",
       "         159.69240297, 247.86589588]],\n",
       "\n",
       "       [[ 75.33297495, 174.05006796, 155.35027909, ..., 233.98667431,\n",
       "         155.35027909, 174.05006796],\n",
       "        [167.22701098, 196.84765156, 192.02546007, ..., 131.6447673 ,\n",
       "         119.41026107, 235.53961919],\n",
       "        [132.75085561, 149.1865022 , 144.63052109, ..., 237.29431965,\n",
       "         217.6141243 , 128.83335999],\n",
       "        ...,\n",
       "        [244.06105601, 195.72999615, 198.70767797, ..., 346.86825864,\n",
       "         208.46454057, 182.9136883 ],\n",
       "        [132.75085561, 128.83335999, 217.6141243 , ..., 137.87697986,\n",
       "         144.63052109, 149.1865022 ],\n",
       "        [167.22701098, 235.53961919, 119.41026107, ..., 165.83630492,\n",
       "         192.02546007, 196.84765156]]])</pre></div></li><li class='xr-var-item'><div class='xr-var-name'><span>ddm_matrix</span></div><div class='xr-var-dims'>(lagtime, q)</div><div class='xr-var-dtype'>float64</div><div class='xr-var-preview xr-preview'>0.0 294.2 321.4 ... 201.1 200.4</div><input id='attrs-40e49a06-1635-46b2-8d6e-2a5d59508084' class='xr-var-attrs-in' type='checkbox' disabled><label for='attrs-40e49a06-1635-46b2-8d6e-2a5d59508084' title='Show/Hide attributes'><svg class='icon xr-icon-file-text2'><use xlink:href='#icon-file-text2'></use></svg></label><input id='data-15830997-cb4c-4031-bec0-5c1de17c55cf' class='xr-var-data-in' type='checkbox'><label for='data-15830997-cb4c-4031-bec0-5c1de17c55cf' title='Show/Hide data repr'><svg class='icon xr-icon-database'><use xlink:href='#icon-database'></use></svg></label><div class='xr-var-attrs'><dl class='xr-attrs'></dl></div><div class='xr-var-data'><pre>array([[   0.        ,  294.18943955,  321.41822078, ...,  192.93331805,\n",
       "         193.46556826,  192.76671589],\n",
       "       [   0.        ,  432.05714374,  490.9677582 , ...,  194.84772175,\n",
       "         195.06799833,  194.40459328],\n",
       "       [   0.        ,  535.36374381,  619.95883018, ...,  196.12616285,\n",
       "         196.21094092,  195.79399928],\n",
       "       ...,\n",
       "       [   0.        , 3966.56056507, 5791.89215548, ...,  205.00017796,\n",
       "         211.36062787,  212.61362392],\n",
       "       [   0.        , 4167.1712352 , 5456.14848464, ...,  203.8398704 ,\n",
       "         205.38454854,  207.78696548],\n",
       "       [   0.        , 3716.77402137, 6067.88205869, ...,  207.76466695,\n",
       "         201.06258553,  200.39635905]])</pre></div></li><li class='xr-var-item'><div class='xr-var-name'><span>first_image</span></div><div class='xr-var-dims'>(y, x)</div><div class='xr-var-dtype'>float64</div><div class='xr-var-preview xr-preview'>128.0 149.0 173.0 ... 229.0 215.0</div><input id='attrs-755e3be0-19bc-4f73-a8e6-d791d0ce2d52' class='xr-var-attrs-in' type='checkbox' disabled><label for='attrs-755e3be0-19bc-4f73-a8e6-d791d0ce2d52' title='Show/Hide attributes'><svg class='icon xr-icon-file-text2'><use xlink:href='#icon-file-text2'></use></svg></label><input id='data-beeaa0b6-002c-457c-a72f-69e07f8b8890' class='xr-var-data-in' type='checkbox'><label for='data-beeaa0b6-002c-457c-a72f-69e07f8b8890' title='Show/Hide data repr'><svg class='icon xr-icon-database'><use xlink:href='#icon-database'></use></svg></label><div class='xr-var-attrs'><dl class='xr-attrs'></dl></div><div class='xr-var-data'><pre>array([[128., 149., 173., ..., 178., 224., 255.],\n",
       "       [164., 163., 166., ..., 182., 197., 255.],\n",
       "       [208., 182., 175., ..., 178., 210., 255.],\n",
       "       ...,\n",
       "       [147., 162., 162., ..., 182., 196., 165.],\n",
       "       [201., 214., 234., ..., 189., 174., 178.],\n",
       "       [255., 255., 255., ..., 175., 229., 215.]])</pre></div></li><li class='xr-var-item'><div class='xr-var-name'><span>avg_image_ft</span></div><div class='xr-var-dims'>(q)</div><div class='xr-var-dtype'>float64</div><div class='xr-var-preview xr-preview'>0.0 1.293e+05 ... 104.7 105.3</div><input id='attrs-90d58f32-56d0-48fe-b555-4a85f464adb4' class='xr-var-attrs-in' type='checkbox' disabled><label for='attrs-90d58f32-56d0-48fe-b555-4a85f464adb4' title='Show/Hide attributes'><svg class='icon xr-icon-file-text2'><use xlink:href='#icon-file-text2'></use></svg></label><input id='data-203dacb2-9135-4cfd-965b-fce8320c80ac' class='xr-var-data-in' type='checkbox'><label for='data-203dacb2-9135-4cfd-965b-fce8320c80ac' title='Show/Hide data repr'><svg class='icon xr-icon-database'><use xlink:href='#icon-database'></use></svg></label><div class='xr-var-attrs'><dl class='xr-attrs'></dl></div><div class='xr-var-data'><pre>array([0.00000000e+00, 1.29341509e+05, 5.22511731e+03, 5.86989569e+03,\n",
       "       8.50478146e+03, 9.68446541e+03, 9.99103750e+03, 1.03319622e+04,\n",
       "       1.00264087e+04, 1.08058729e+04, 1.16343568e+04, 1.38669622e+04,\n",
       "       1.68988722e+04, 1.98642184e+04, 2.11800678e+04, 2.14311022e+04,\n",
       "       2.06130601e+04, 1.80258072e+04, 1.42561639e+04, 1.04082328e+04,\n",
       "       7.27537584e+03, 4.68549415e+03, 2.88015028e+03, 1.77658315e+03,\n",
       "       1.06139768e+03, 6.83505113e+02, 4.97908069e+02, 4.18238638e+02,\n",
       "       3.38383278e+02, 2.72050227e+02, 2.35672326e+02, 2.24525405e+02,\n",
       "       2.03430129e+02, 1.78436880e+02, 1.65009527e+02, 1.49291391e+02,\n",
       "       1.41201296e+02, 1.33121051e+02, 1.29764821e+02, 1.28159612e+02,\n",
       "       1.24131175e+02, 1.24052104e+02, 1.21220015e+02, 1.19076951e+02,\n",
       "       1.17509287e+02, 1.15310101e+02, 1.15268069e+02, 1.12572652e+02,\n",
       "       1.11849673e+02, 1.11765243e+02, 1.10247178e+02, 1.09703002e+02,\n",
       "       1.08834403e+02, 1.09662333e+02, 1.08597899e+02, 1.07728419e+02,\n",
       "       1.07789289e+02, 1.06907057e+02, 1.07036538e+02, 1.05981891e+02,\n",
       "       1.05125261e+02, 1.05313067e+02, 1.04737380e+02, 1.05326832e+02])</pre></div></li><li class='xr-var-item'><div class='xr-var-name'><span>num_pairs_per_dt</span></div><div class='xr-var-dims'>(lagtime)</div><div class='xr-var-dtype'>int32</div><div class='xr-var-preview xr-preview'>2999 2998 2997 1498 ... 20 17 15 13</div><input id='attrs-2602c77f-4dbb-4e82-a355-22df8a92b5d6' class='xr-var-attrs-in' type='checkbox' disabled><label for='attrs-2602c77f-4dbb-4e82-a355-22df8a92b5d6' title='Show/Hide attributes'><svg class='icon xr-icon-file-text2'><use xlink:href='#icon-file-text2'></use></svg></label><input id='data-da6ac2a7-fd89-4857-9ef2-f7ad7a25e589' class='xr-var-data-in' type='checkbox'><label for='data-da6ac2a7-fd89-4857-9ef2-f7ad7a25e589' title='Show/Hide data repr'><svg class='icon xr-icon-database'><use xlink:href='#icon-database'></use></svg></label><div class='xr-var-attrs'><dl class='xr-attrs'></dl></div><div class='xr-var-data'><pre>array([2999, 2998, 2997, 1498, 1498, 1497,  998,  998,  997,  748,  747,\n",
       "        598,  498,  497,  426,  372,  331,  270,  247,  212,  185,  164,\n",
       "        140,  123,  109,   94,   81,   71,   63,   54,   47,   41,   35,\n",
       "         31,   27,   23,   20,   17,   15,   13])</pre></div></li><li class='xr-var-item'><div class='xr-var-name'><span>B</span></div><div class='xr-var-dims'>()</div><div class='xr-var-dtype'>float64</div><div class='xr-var-preview xr-preview'>211.2</div><input id='attrs-2f803a5f-cd2e-4537-9d74-33538d81640b' class='xr-var-attrs-in' type='checkbox' disabled><label for='attrs-2f803a5f-cd2e-4537-9d74-33538d81640b' title='Show/Hide attributes'><svg class='icon xr-icon-file-text2'><use xlink:href='#icon-file-text2'></use></svg></label><input id='data-edb4c7ca-d947-4d5f-adf3-f9e1743712bc' class='xr-var-data-in' type='checkbox'><label for='data-edb4c7ca-d947-4d5f-adf3-f9e1743712bc' title='Show/Hide data repr'><svg class='icon xr-icon-database'><use xlink:href='#icon-database'></use></svg></label><div class='xr-var-attrs'><dl class='xr-attrs'></dl></div><div class='xr-var-data'><pre>array(211.17365621)</pre></div></li><li class='xr-var-item'><div class='xr-var-name'><span>B_std</span></div><div class='xr-var-dims'>()</div><div class='xr-var-dtype'>float64</div><div class='xr-var-preview xr-preview'>1.491</div><input id='attrs-981767df-2368-4919-8294-391c0c44567f' class='xr-var-attrs-in' type='checkbox' disabled><label for='attrs-981767df-2368-4919-8294-391c0c44567f' title='Show/Hide attributes'><svg class='icon xr-icon-file-text2'><use xlink:href='#icon-file-text2'></use></svg></label><input id='data-61f0a6aa-ed04-4617-b297-76e3cf592606' class='xr-var-data-in' type='checkbox'><label for='data-61f0a6aa-ed04-4617-b297-76e3cf592606' title='Show/Hide data repr'><svg class='icon xr-icon-database'><use xlink:href='#icon-database'></use></svg></label><div class='xr-var-attrs'><dl class='xr-attrs'></dl></div><div class='xr-var-data'><pre>array(1.49105881)</pre></div></li><li class='xr-var-item'><div class='xr-var-name'><span>Amplitude</span></div><div class='xr-var-dims'>(q)</div><div class='xr-var-dtype'>float64</div><div class='xr-var-preview xr-preview'>-211.2 2.585e+05 ... -1.699 -0.52</div><input id='attrs-73aa8cf3-1653-4fb8-99be-984fccd2b3a4' class='xr-var-attrs-in' type='checkbox' disabled><label for='attrs-73aa8cf3-1653-4fb8-99be-984fccd2b3a4' title='Show/Hide attributes'><svg class='icon xr-icon-file-text2'><use xlink:href='#icon-file-text2'></use></svg></label><input id='data-241b572d-fc5f-48ba-ba14-a5e4f5921770' class='xr-var-data-in' type='checkbox'><label for='data-241b572d-fc5f-48ba-ba14-a5e4f5921770' title='Show/Hide data repr'><svg class='icon xr-icon-database'><use xlink:href='#icon-database'></use></svg></label><div class='xr-var-attrs'><dl class='xr-attrs'></dl></div><div class='xr-var-data'><pre>array([-2.11173656e+02,  2.58471844e+05,  1.02390610e+04,  1.15286177e+04,\n",
       "        1.67983893e+04,  1.91577572e+04,  1.97709014e+04,  2.04527506e+04,\n",
       "        1.98416438e+04,  2.14005721e+04,  2.30575400e+04,  2.75227507e+04,\n",
       "        3.35865707e+04,  3.95172631e+04,  4.21489620e+04,  4.26510308e+04,\n",
       "        4.10149466e+04,  3.58404407e+04,  2.83011541e+04,  2.06052919e+04,\n",
       "        1.43395780e+04,  9.15981465e+03,  5.54912690e+03,  3.34199265e+03,\n",
       "        1.91162170e+03,  1.15583657e+03,  7.84642482e+02,  6.25303620e+02,\n",
       "        4.65592900e+02,  3.32926798e+02,  2.60170996e+02,  2.37877154e+02,\n",
       "        1.95686602e+02,  1.45700103e+02,  1.18845397e+02,  8.74091262e+01,\n",
       "        7.12289354e+01,  5.50684455e+01,  4.83559858e+01,  4.51455685e+01,\n",
       "        3.70886933e+01,  3.69305527e+01,  3.12663737e+01,  2.69802467e+01,\n",
       "        2.38449170e+01,  1.94465450e+01,  1.93624826e+01,  1.39716478e+01,\n",
       "        1.25256899e+01,  1.23568306e+01,  9.32069947e+00,  8.23234748e+00,\n",
       "        6.49514954e+00,  8.15100953e+00,  6.02214129e+00,  4.28318246e+00,\n",
       "        4.40492236e+00,  2.64045708e+00,  2.89942014e+00,  7.90126460e-01,\n",
       "       -9.23134186e-01, -5.47522559e-01, -1.69889697e+00, -5.19992889e-01])</pre></div></li><li class='xr-var-item'><div class='xr-var-name'><span>ISF</span></div><div class='xr-var-dims'>(lagtime, q)</div><div class='xr-var-dtype'>float64</div><div class='xr-var-preview xr-preview'>0.0 0.9997 0.9892 ... -4.952 -19.73</div><input id='attrs-91810c82-dee6-4e41-ae97-74d5d0efb956' class='xr-var-attrs-in' type='checkbox' disabled><label for='attrs-91810c82-dee6-4e41-ae97-74d5d0efb956' title='Show/Hide attributes'><svg class='icon xr-icon-file-text2'><use xlink:href='#icon-file-text2'></use></svg></label><input id='data-2c039819-813e-4109-8a23-5b3733df95c1' class='xr-var-data-in' type='checkbox'><label for='data-2c039819-813e-4109-8a23-5b3733df95c1' title='Show/Hide data repr'><svg class='icon xr-icon-database'><use xlink:href='#icon-database'></use></svg></label><div class='xr-var-attrs'><dl class='xr-attrs'></dl></div><div class='xr-var-data'><pre>array([[  0.        ,   0.99967882,   0.98923294, ..., -32.31431348,\n",
       "         -9.42328539, -34.39844623],\n",
       "       [  0.        ,   0.99914543,   0.97267385, ..., -28.81782979,\n",
       "         -8.48006746, -31.24863895],\n",
       "       [  0.        ,   0.99874574,   0.96007591, ..., -26.48287376,\n",
       "         -7.80731178, -28.57666779],\n",
       "       ...,\n",
       "       [  0.        ,   0.98547081,   0.45495798, ..., -10.27529479,\n",
       "          1.11005474,   3.76920654],\n",
       "       [  0.        ,   0.98469467,   0.48774845, ..., -12.39449068,\n",
       "         -2.40756842,  -5.51295585],\n",
       "       [  0.        ,   0.98643721,   0.42800337, ...,  -5.22620786,\n",
       "         -4.95155025, -19.7258549 ]])</pre></div></li></ul></div></li><li class='xr-section-item'><input id='section-8b90c73e-cd47-47d3-b382-a34e5e2c238a' class='xr-section-summary-in' type='checkbox'  ><label for='section-8b90c73e-cd47-47d3-b382-a34e5e2c238a' class='xr-section-summary' >Attributes: <span>(14)</span></label><div class='xr-section-inline-details'></div><div class='xr-section-details'><dl class='xr-attrs'><dt><span>units :</span></dt><dd>Intensity</dd><dt><span>lagtime :</span></dt><dd>sec</dd><dt><span>q :</span></dt><dd>μm$^{-1}$</dd><dt><span>x :</span></dt><dd>pixels</dd><dt><span>y :</span></dt><dd>pixels</dd><dt><span>info :</span></dt><dd>ddm_matrix is the averages of FFT difference images, ravs are the radial averages</dd><dt><span>BackgroundMethod :</span></dt><dd>0</dd><dt><span>OverlapMethod :</span></dt><dd>2</dd><dt><span>DataDirectory :</span></dt><dd>./</dd><dt><span>FileName :</span></dt><dd>images_nobin_40x_128x128_8bit.tif</dd><dt><span>pixel_size :</span></dt><dd>0.242</dd><dt><span>frame_rate :</span></dt><dd>41.7</dd><dt><span>number_lag_times :</span></dt><dd>40</dd><dt><span>last_lag_time :</span></dt><dd>600</dd></dl></div></li></ul></div></div>"
      ],
      "text/plain": [
       "<xarray.Dataset>\n",
       "Dimensions:           (lagtime: 40, q_y: 128, q_x: 128, q: 64, y: 128, x: 128, frames: 40)\n",
       "Coordinates:\n",
       "  * lagtime           (lagtime) float64 0.02398 0.04796 0.07194 ... 12.59 14.36\n",
       "    framelag          (frames) int32 1 2 3 4 5 6 7 ... 308 352 402 459 525 599\n",
       "  * q_y               (q_y) float64 -12.98 -12.78 -12.58 ... 12.37 12.58 12.78\n",
       "  * q_x               (q_x) float64 -12.98 -12.78 -12.58 ... 12.37 12.58 12.78\n",
       "  * q                 (q) float64 0.0 0.2028 0.4057 0.6085 ... 12.37 12.58 12.78\n",
       "  * y                 (y) int32 0 1 2 3 4 5 6 7 ... 121 122 123 124 125 126 127\n",
       "  * x                 (x) int32 0 1 2 3 4 5 6 7 ... 121 122 123 124 125 126 127\n",
       "Dimensions without coordinates: frames\n",
       "Data variables:\n",
       "    ddm_matrix_full   (lagtime, q_y, q_x) float64 194.5 183.5 ... 192.0 196.8\n",
       "    ddm_matrix        (lagtime, q) float64 0.0 294.2 321.4 ... 207.8 201.1 200.4\n",
       "    first_image       (y, x) float64 128.0 149.0 173.0 ... 175.0 229.0 215.0\n",
       "    avg_image_ft      (q) float64 0.0 1.293e+05 5.225e+03 ... 105.3 104.7 105.3\n",
       "    num_pairs_per_dt  (lagtime) int32 2999 2998 2997 1498 1498 ... 20 17 15 13\n",
       "    B                 float64 211.2\n",
       "    B_std             float64 1.491\n",
       "    Amplitude         (q) float64 -211.2 2.585e+05 1.024e+04 ... -1.699 -0.52\n",
       "    ISF               (lagtime, q) float64 0.0 0.9997 0.9892 ... -4.952 -19.73\n",
       "Attributes: (12/14)\n",
       "    units:             Intensity\n",
       "    lagtime:           sec\n",
       "    q:                 μm$^{-1}$\n",
       "    x:                 pixels\n",
       "    y:                 pixels\n",
       "    info:              ddm_matrix is the averages of FFT difference images, r...\n",
       "    ...                ...\n",
       "    DataDirectory:     ./\n",
       "    FileName:          images_nobin_40x_128x128_8bit.tif\n",
       "    pixel_size:        0.242\n",
       "    frame_rate:        41.7\n",
       "    number_lag_times:  40\n",
       "    last_lag_time:     600"
      ]
     },
     "execution_count": 11,
     "metadata": {},
     "output_type": "execute_result"
    },
    {
     "data": {
      "image/png": "[encoded data removed]",
      "text/plain": [
       "<Figure size 288x288 with 1 Axes>"
      ]
     },
     "metadata": {
      "needs_background": "light"
     },
     "output_type": "display_data"
    },
    {
     "data": {
      "image/png": "[encoded data removed]",
      "text/plain": [
       "<Figure size 288x288 with 1 Axes>"
      ]
     },
     "metadata": {
      "needs_background": "light"
     },
     "output_type": "display_data"
    },
    {
     "data": {
      "image/png": "[encoded data removed]",
      "text/plain": [
       "<Figure size 432x360 with 1 Axes>"
      ]
     },
     "metadata": {
      "needs_background": "light"
     },
     "output_type": "display_data"
    },
    {
     "data": {
      "image/png": "[encoded data removed]",
      "text/plain": [
       "<Figure size 432x360 with 1 Axes>"
      ]
     },
     "metadata": {
      "needs_background": "light"
     },
     "output_type": "display_data"
    }
   ],
   "source": [
    "ddm_calc.calculate_DDM_matrix(quiet=True)"
   ]
  },
  {
   "cell_type": "markdown",
   "metadata": {},
   "source": [
    "Note the four figures which are produced. These will also be saved as a PDF. "
   ]
  },
  {
   "cell_type": "markdown",
   "metadata": {},
   "source": [
    "### 5.3 DDM dataset "
   ]
  },
  {
   "cell_type": "code",
   "execution_count": 11,
   "metadata": {},
   "outputs": [
    {
     "data": {
      "text/html": [
       "<div><svg style=\"position: absolute; width: 0; height: 0; overflow: hidden\">\n",
       "<defs>\n",
       "<symbol id=\"icon-database\" viewBox=\"0 0 32 32\">\n",
       "<path d=\"M16 0c-8.837 0-16 2.239-16 5v4c0 2.761 7.163 5 16 5s16-2.239 16-5v-4c0-2.761-7.163-5-16-5z\"></path>\n",
       "<path d=\"M16 17c-8.837 0-16-2.239-16-5v6c0 2.761 7.163 5 16 5s16-2.239 16-5v-6c0 2.761-7.163 5-16 5z\"></path>\n",
       "<path d=\"M16 26c-8.837 0-16-2.239-16-5v6c0 2.761 7.163 5 16 5s16-2.239 16-5v-6c0 2.761-7.163 5-16 5z\"></path>\n",
       "</symbol>\n",
       "<symbol id=\"icon-file-text2\" viewBox=\"0 0 32 32\">\n",
       "<path d=\"M28.681 7.159c-0.694-0.947-1.662-2.053-2.724-3.116s-2.169-2.030-3.116-2.724c-1.612-1.182-2.393-1.319-2.841-1.319h-15.5c-1.378 0-2.5 1.121-2.5 2.5v27c0 1.378 1.122 2.5 2.5 2.5h23c1.378 0 2.5-1.122 2.5-2.5v-19.5c0-0.448-0.137-1.23-1.319-2.841zM24.543 5.457c0.959 0.959 1.712 1.825 2.268 2.543h-4.811v-4.811c0.718 0.556 1.584 1.309 2.543 2.268zM28 29.5c0 0.271-0.229 0.5-0.5 0.5h-23c-0.271 0-0.5-0.229-0.5-0.5v-27c0-0.271 0.229-0.5 0.5-0.5 0 0 15.499-0 15.5 0v7c0 0.552 0.448 1 1 1h7v19.5z\"></path>\n",
       "<path d=\"M23 26h-14c-0.552 0-1-0.448-1-1s0.448-1 1-1h14c0.552 0 1 0.448 1 1s-0.448 1-1 1z\"></path>\n",
       "<path d=\"M23 22h-14c-0.552 0-1-0.448-1-1s0.448-1 1-1h14c0.552 0 1 0.448 1 1s-0.448 1-1 1z\"></path>\n",
       "<path d=\"M23 18h-14c-0.552 0-1-0.448-1-1s0.448-1 1-1h14c0.552 0 1 0.448 1 1s-0.448 1-1 1z\"></path>\n",
       "</symbol>\n",
       "</defs>\n",
       "</svg>\n",
       "<style>/* CSS stylesheet for displaying xarray objects in jupyterlab.\n",
       " *\n",
       " */\n",
       "\n",
       ":root {\n",
       "  --xr-font-color0: var(--jp-content-font-color0, rgba(0, 0, 0, 1));\n",
       "  --xr-font-color2: var(--jp-content-font-color2, rgba(0, 0, 0, 0.54));\n",
       "  --xr-font-color3: var(--jp-content-font-color3, rgba(0, 0, 0, 0.38));\n",
       "  --xr-border-color: var(--jp-border-color2, #e0e0e0);\n",
       "  --xr-disabled-color: var(--jp-layout-color3, #bdbdbd);\n",
       "  --xr-background-color: var(--jp-layout-color0, white);\n",
       "  --xr-background-color-row-even: var(--jp-layout-color1, white);\n",
       "  --xr-background-color-row-odd: var(--jp-layout-color2, #eeeeee);\n",
       "}\n",
       "\n",
       "html[theme=dark],\n",
       "body.vscode-dark {\n",
       "  --xr-font-color0: rgba(255, 255, 255, 1);\n",
       "  --xr-font-color2: rgba(255, 255, 255, 0.54);\n",
       "  --xr-font-color3: rgba(255, 255, 255, 0.38);\n",
       "  --xr-border-color: #1F1F1F;\n",
       "  --xr-disabled-color: #515151;\n",
       "  --xr-background-color: #111111;\n",
       "  --xr-background-color-row-even: #111111;\n",
       "  --xr-background-color-row-odd: #313131;\n",
       "}\n",
       "\n",
       ".xr-wrap {\n",
       "  display: block;\n",
       "  min-width: 300px;\n",
       "  max-width: 700px;\n",
       "}\n",
       "\n",
       ".xr-text-repr-fallback {\n",
       "  /* fallback to plain text repr when CSS is not injected (untrusted notebook) */\n",
       "  display: none;\n",
       "}\n",
       "\n",
       ".xr-header {\n",
       "  padding-top: 6px;\n",
       "  padding-bottom: 6px;\n",
       "  margin-bottom: 4px;\n",
       "  border-bottom: solid 1px var(--xr-border-color);\n",
       "}\n",
       "\n",
       ".xr-header > div,\n",
       ".xr-header > ul {\n",
       "  display: inline;\n",
       "  margin-top: 0;\n",
       "  margin-bottom: 0;\n",
       "}\n",
       "\n",
       ".xr-obj-type,\n",
       ".xr-array-name {\n",
       "  margin-left: 2px;\n",
       "  margin-right: 10px;\n",
       "}\n",
       "\n",
       ".xr-obj-type {\n",
       "  color: var(--xr-font-color2);\n",
       "}\n",
       "\n",
       ".xr-sections {\n",
       "  padding-left: 0 !important;\n",
       "  display: grid;\n",
       "  grid-template-columns: 150px auto auto 1fr 20px 20px;\n",
       "}\n",
       "\n",
       ".xr-section-item {\n",
       "  display: contents;\n",
       "}\n",
       "\n",
       ".xr-section-item input {\n",
       "  display: none;\n",
       "}\n",
       "\n",
       ".xr-section-item input + label {\n",
       "  color: var(--xr-disabled-color);\n",
       "}\n",
       "\n",
       ".xr-section-item input:enabled + label {\n",
       "  cursor: pointer;\n",
       "  color: var(--xr-font-color2);\n",
       "}\n",
       "\n",
       ".xr-section-item input:enabled + label:hover {\n",
       "  color: var(--xr-font-color0);\n",
       "}\n",
       "\n",
       ".xr-section-summary {\n",
       "  grid-column: 1;\n",
       "  color: var(--xr-font-color2);\n",
       "  font-weight: 500;\n",
       "}\n",
       "\n",
       ".xr-section-summary > span {\n",
       "  display: inline-block;\n",
       "  padding-left: 0.5em;\n",
       "}\n",
       "\n",
       ".xr-section-summary-in:disabled + label {\n",
       "  color: var(--xr-font-color2);\n",
       "}\n",
       "\n",
       ".xr-section-summary-in + label:before {\n",
       "  display: inline-block;\n",
       "  content: '►';\n",
       "  font-size: 11px;\n",
       "  width: 15px;\n",
       "  text-align: center;\n",
       "}\n",
       "\n",
       ".xr-section-summary-in:disabled + label:before {\n",
       "  color: var(--xr-disabled-color);\n",
       "}\n",
       "\n",
       ".xr-section-summary-in:checked + label:before {\n",
       "  content: '▼';\n",
       "}\n",
       "\n",
       ".xr-section-summary-in:checked + label > span {\n",
       "  display: none;\n",
       "}\n",
       "\n",
       ".xr-section-summary,\n",
       ".xr-section-inline-details {\n",
       "  padding-top: 4px;\n",
       "  padding-bottom: 4px;\n",
       "}\n",
       "\n",
       ".xr-section-inline-details {\n",
       "  grid-column: 2 / -1;\n",
       "}\n",
       "\n",
       ".xr-section-details {\n",
       "  display: none;\n",
       "  grid-column: 1 / -1;\n",
       "  margin-bottom: 5px;\n",
       "}\n",
       "\n",
       ".xr-section-summary-in:checked ~ .xr-section-details {\n",
       "  display: contents;\n",
       "}\n",
       "\n",
       ".xr-array-wrap {\n",
       "  grid-column: 1 / -1;\n",
       "  display: grid;\n",
       "  grid-template-columns: 20px auto;\n",
       "}\n",
       "\n",
       ".xr-array-wrap > label {\n",
       "  grid-column: 1;\n",
       "  vertical-align: top;\n",
       "}\n",
       "\n",
       ".xr-preview {\n",
       "  color: var(--xr-font-color3);\n",
       "}\n",
       "\n",
       ".xr-array-preview,\n",
       ".xr-array-data {\n",
       "  padding: 0 5px !important;\n",
       "  grid-column: 2;\n",
       "}\n",
       "\n",
       ".xr-array-data,\n",
       ".xr-array-in:checked ~ .xr-array-preview {\n",
       "  display: none;\n",
       "}\n",
       "\n",
       ".xr-array-in:checked ~ .xr-array-data,\n",
       ".xr-array-preview {\n",
       "  display: inline-block;\n",
       "}\n",
       "\n",
       ".xr-dim-list {\n",
       "  display: inline-block !important;\n",
       "  list-style: none;\n",
       "  padding: 0 !important;\n",
       "  margin: 0;\n",
       "}\n",
       "\n",
       ".xr-dim-list li {\n",
       "  display: inline-block;\n",
       "  padding: 0;\n",
       "  margin: 0;\n",
       "}\n",
       "\n",
       ".xr-dim-list:before {\n",
       "  content: '(';\n",
       "}\n",
       "\n",
       ".xr-dim-list:after {\n",
       "  content: ')';\n",
       "}\n",
       "\n",
       ".xr-dim-list li:not(:last-child):after {\n",
       "  content: ',';\n",
       "  padding-right: 5px;\n",
       "}\n",
       "\n",
       ".xr-has-index {\n",
       "  font-weight: bold;\n",
       "}\n",
       "\n",
       ".xr-var-list,\n",
       ".xr-var-item {\n",
       "  display: contents;\n",
       "}\n",
       "\n",
       ".xr-var-item > div,\n",
       ".xr-var-item label,\n",
       ".xr-var-item > .xr-var-name span {\n",
       "  background-color: var(--xr-background-color-row-even);\n",
       "  margin-bottom: 0;\n",
       "}\n",
       "\n",
       ".xr-var-item > .xr-var-name:hover span {\n",
       "  padding-right: 5px;\n",
       "}\n",
       "\n",
       ".xr-var-list > li:nth-child(odd) > div,\n",
       ".xr-var-list > li:nth-child(odd) > label,\n",
       ".xr-var-list > li:nth-child(odd) > .xr-var-name span {\n",
       "  background-color: var(--xr-background-color-row-odd);\n",
       "}\n",
       "\n",
       ".xr-var-name {\n",
       "  grid-column: 1;\n",
       "}\n",
       "\n",
       ".xr-var-dims {\n",
       "  grid-column: 2;\n",
       "}\n",
       "\n",
       ".xr-var-dtype {\n",
       "  grid-column: 3;\n",
       "  text-align: right;\n",
       "  color: var(--xr-font-color2);\n",
       "}\n",
       "\n",
       ".xr-var-preview {\n",
       "  grid-column: 4;\n",
       "}\n",
       "\n",
       ".xr-var-name,\n",
       ".xr-var-dims,\n",
       ".xr-var-dtype,\n",
       ".xr-preview,\n",
       ".xr-attrs dt {\n",
       "  white-space: nowrap;\n",
       "  overflow: hidden;\n",
       "  text-overflow: ellipsis;\n",
       "  padding-right: 10px;\n",
       "}\n",
       "\n",
       ".xr-var-name:hover,\n",
       ".xr-var-dims:hover,\n",
       ".xr-var-dtype:hover,\n",
       ".xr-attrs dt:hover {\n",
       "  overflow: visible;\n",
       "  width: auto;\n",
       "  z-index: 1;\n",
       "}\n",
       "\n",
       ".xr-var-attrs,\n",
       ".xr-var-data {\n",
       "  display: none;\n",
       "  background-color: var(--xr-background-color) !important;\n",
       "  padding-bottom: 5px !important;\n",
       "}\n",
       "\n",
       ".xr-var-attrs-in:checked ~ .xr-var-attrs,\n",
       ".xr-var-data-in:checked ~ .xr-var-data {\n",
       "  display: block;\n",
       "}\n",
       "\n",
       ".xr-var-data > table {\n",
       "  float: right;\n",
       "}\n",
       "\n",
       ".xr-var-name span,\n",
       ".xr-var-data,\n",
       ".xr-attrs {\n",
       "  padding-left: 25px !important;\n",
       "}\n",
       "\n",
       ".xr-attrs,\n",
       ".xr-var-attrs,\n",
       ".xr-var-data {\n",
       "  grid-column: 1 / -1;\n",
       "}\n",
       "\n",
       "dl.xr-attrs {\n",
       "  padding: 0;\n",
       "  margin: 0;\n",
       "  display: grid;\n",
       "  grid-template-columns: 125px auto;\n",
       "}\n",
       "\n",
       ".xr-attrs dt,\n",
       ".xr-attrs dd {\n",
       "  padding: 0;\n",
       "  margin: 0;\n",
       "  float: left;\n",
       "  padding-right: 10px;\n",
       "  width: auto;\n",
       "}\n",
       "\n",
       ".xr-attrs dt {\n",
       "  font-weight: normal;\n",
       "  grid-column: 1;\n",
       "}\n",
       "\n",
       ".xr-attrs dt:hover span {\n",
       "  display: inline-block;\n",
       "  background: var(--xr-background-color);\n",
       "  padding-right: 10px;\n",
       "}\n",
       "\n",
       ".xr-attrs dd {\n",
       "  grid-column: 2;\n",
       "  white-space: pre-wrap;\n",
       "  word-break: break-all;\n",
       "}\n",
       "\n",
       ".xr-icon-database,\n",
       ".xr-icon-file-text2 {\n",
       "  display: inline-block;\n",
       "  vertical-align: middle;\n",
       "  width: 1em;\n",
       "  height: 1.5em !important;\n",
       "  stroke-width: 0;\n",
       "  stroke: currentColor;\n",
       "  fill: currentColor;\n",
       "}\n",
       "</style><pre class='xr-text-repr-fallback'>&lt;xarray.Dataset&gt;\n",
       "Dimensions:           (lagtime: 40, q_y: 128, q_x: 128, q: 64, y: 128, x: 128, frames: 40)\n",
       "Coordinates:\n",
       "  * lagtime           (lagtime) float64 0.02398 0.04796 0.07194 ... 12.59 14.36\n",
       "    framelag          (frames) int32 1 2 3 4 5 6 7 ... 308 352 402 459 525 599\n",
       "  * q_y               (q_y) float64 -12.98 -12.78 -12.58 ... 12.37 12.58 12.78\n",
       "  * q_x               (q_x) float64 -12.98 -12.78 -12.58 ... 12.37 12.58 12.78\n",
       "  * q                 (q) float64 0.0 0.2028 0.4057 0.6085 ... 12.37 12.58 12.78\n",
       "  * y                 (y) int32 0 1 2 3 4 5 6 7 ... 121 122 123 124 125 126 127\n",
       "  * x                 (x) int32 0 1 2 3 4 5 6 7 ... 121 122 123 124 125 126 127\n",
       "Dimensions without coordinates: frames\n",
       "Data variables:\n",
       "    ddm_matrix_full   (lagtime, q_y, q_x) float64 194.5 183.5 ... 192.0 196.8\n",
       "    ddm_matrix        (lagtime, q) float64 0.0 294.2 321.4 ... 207.8 201.1 200.4\n",
       "    first_image       (y, x) float64 128.0 149.0 173.0 ... 175.0 229.0 215.0\n",
       "    avg_image_ft      (q) float64 0.0 1.293e+05 5.225e+03 ... 105.3 104.7 105.3\n",
       "    num_pairs_per_dt  (lagtime) int32 2999 2998 2997 1498 1498 ... 20 17 15 13\n",
       "    B                 float64 211.2\n",
       "    B_std             float64 1.491\n",
       "    Amplitude         (q) float64 -211.2 2.585e+05 1.024e+04 ... -1.699 -0.52\n",
       "    ISF               (lagtime, q) float64 0.0 0.9997 0.9892 ... -4.952 -19.73\n",
       "Attributes: (12/14)\n",
       "    units:             Intensity\n",
       "    lagtime:           sec\n",
       "    q:                 μm$^{-1}$\n",
       "    x:                 pixels\n",
       "    y:                 pixels\n",
       "    info:              ddm_matrix is the averages of FFT difference images, r...\n",
       "    ...                ...\n",
       "    DataDirectory:     ./\n",
       "    FileName:          images_nobin_40x_128x128_8bit.tif\n",
       "    pixel_size:        0.242\n",
       "    frame_rate:        41.7\n",
       "    number_lag_times:  40\n",
       "    last_lag_time:     600</pre><div class='xr-wrap' hidden><div class='xr-header'><div class='xr-obj-type'>xarray.Dataset</div></div><ul class='xr-sections'><li class='xr-section-item'><input id='section-b5ce7e9d-1641-44c4-94d1-6a51e89f1e7c' class='xr-section-summary-in' type='checkbox' disabled ><label for='section-b5ce7e9d-1641-44c4-94d1-6a51e89f1e7c' class='xr-section-summary'  title='Expand/collapse section'>Dimensions:</label><div class='xr-section-inline-details'><ul class='xr-dim-list'><li><span class='xr-has-index'>lagtime</span>: 40</li><li><span class='xr-has-index'>q_y</span>: 128</li><li><span class='xr-has-index'>q_x</span>: 128</li><li><span class='xr-has-index'>q</span>: 64</li><li><span class='xr-has-index'>y</span>: 128</li><li><span class='xr-has-index'>x</span>: 128</li><li><span>frames</span>: 40</li></ul></div><div class='xr-section-details'></div></li><li class='xr-section-item'><input id='section-b474b60d-f04f-4ad9-92ee-053bf1c111c5' class='xr-section-summary-in' type='checkbox'  checked><label for='section-b474b60d-f04f-4ad9-92ee-053bf1c111c5' class='xr-section-summary' >Coordinates: <span>(7)</span></label><div class='xr-section-inline-details'></div><div class='xr-section-details'><ul class='xr-var-list'><li class='xr-var-item'><div class='xr-var-name'><span class='xr-has-index'>lagtime</span></div><div class='xr-var-dims'>(lagtime)</div><div class='xr-var-dtype'>float64</div><div class='xr-var-preview xr-preview'>0.02398 0.04796 ... 12.59 14.36</div><input id='attrs-616f898d-88b2-4011-941a-b8d4aaca96b9' class='xr-var-attrs-in' type='checkbox' disabled><label for='attrs-616f898d-88b2-4011-941a-b8d4aaca96b9' title='Show/Hide attributes'><svg class='icon xr-icon-file-text2'><use xlink:href='#icon-file-text2'></use></svg></label><input id='data-5c3dc7bc-9631-4694-85c8-c6d4aa0c25b7' class='xr-var-data-in' type='checkbox'><label for='data-5c3dc7bc-9631-4694-85c8-c6d4aa0c25b7' title='Show/Hide data repr'><svg class='icon xr-icon-database'><use xlink:href='#icon-database'></use></svg></label><div class='xr-var-attrs'><dl class='xr-attrs'></dl></div><div class='xr-var-data'><pre>array([ 0.023981,  0.047962,  0.071942,  0.095923,  0.119904,  0.143885,\n",
       "        0.167866,  0.191847,  0.215827,  0.263789,  0.28777 ,  0.335731,\n",
       "        0.383693,  0.431655,  0.503597,  0.57554 ,  0.647482,  0.743405,\n",
       "        0.863309,  0.983213,  1.127098,  1.294964,  1.486811,  1.702638,\n",
       "        1.942446,  2.206235,  2.541966,  2.901679,  3.309353,  3.788969,\n",
       "        4.316547,  4.940048,  5.659472,  6.450839,  7.386091,  8.441247,\n",
       "        9.640288, 11.007194, 12.589928, 14.364508])</pre></div></li><li class='xr-var-item'><div class='xr-var-name'><span>framelag</span></div><div class='xr-var-dims'>(frames)</div><div class='xr-var-dtype'>int32</div><div class='xr-var-preview xr-preview'>1 2 3 4 5 6 ... 352 402 459 525 599</div><input id='attrs-74557e63-0ca3-4b29-bec3-3e0e5111264d' class='xr-var-attrs-in' type='checkbox' disabled><label for='attrs-74557e63-0ca3-4b29-bec3-3e0e5111264d' title='Show/Hide attributes'><svg class='icon xr-icon-file-text2'><use xlink:href='#icon-file-text2'></use></svg></label><input id='data-0f05bc05-2194-4302-ba11-73157d86ce26' class='xr-var-data-in' type='checkbox'><label for='data-0f05bc05-2194-4302-ba11-73157d86ce26' title='Show/Hide data repr'><svg class='icon xr-icon-database'><use xlink:href='#icon-database'></use></svg></label><div class='xr-var-attrs'><dl class='xr-attrs'></dl></div><div class='xr-var-data'><pre>array([  1,   2,   3,   4,   5,   6,   7,   8,   9,  11,  12,  14,  16,\n",
       "        18,  21,  24,  27,  31,  36,  41,  47,  54,  62,  71,  81,  92,\n",
       "       106, 121, 138, 158, 180, 206, 236, 269, 308, 352, 402, 459, 525,\n",
       "       599])</pre></div></li><li class='xr-var-item'><div class='xr-var-name'><span class='xr-has-index'>q_y</span></div><div class='xr-var-dims'>(q_y)</div><div class='xr-var-dtype'>float64</div><div class='xr-var-preview xr-preview'>-12.98 -12.78 ... 12.58 12.78</div><input id='attrs-f09cf84a-7215-432a-9630-651eab2515a7' class='xr-var-attrs-in' type='checkbox' disabled><label for='attrs-f09cf84a-7215-432a-9630-651eab2515a7' title='Show/Hide attributes'><svg class='icon xr-icon-file-text2'><use xlink:href='#icon-file-text2'></use></svg></label><input id='data-7f59e6f9-201d-4662-b846-4aa16a4b9fe7' class='xr-var-data-in' type='checkbox'><label for='data-7f59e6f9-201d-4662-b846-4aa16a4b9fe7' title='Show/Hide data repr'><svg class='icon xr-icon-database'><use xlink:href='#icon-database'></use></svg></label><div class='xr-var-attrs'><dl class='xr-attrs'></dl></div><div class='xr-var-data'><pre>array([-12.981788, -12.778947, -12.576107, -12.373267, -12.170426, -11.967586,\n",
       "       -11.764745, -11.561905, -11.359064, -11.156224, -10.953383, -10.750543,\n",
       "       -10.547703, -10.344862, -10.142022,  -9.939181,  -9.736341,  -9.5335  ,\n",
       "        -9.33066 ,  -9.12782 ,  -8.924979,  -8.722139,  -8.519298,  -8.316458,\n",
       "        -8.113617,  -7.910777,  -7.707937,  -7.505096,  -7.302256,  -7.099415,\n",
       "        -6.896575,  -6.693734,  -6.490894,  -6.288053,  -6.085213,  -5.882373,\n",
       "        -5.679532,  -5.476692,  -5.273851,  -5.071011,  -4.86817 ,  -4.66533 ,\n",
       "        -4.46249 ,  -4.259649,  -4.056809,  -3.853968,  -3.651128,  -3.448287,\n",
       "        -3.245447,  -3.042607,  -2.839766,  -2.636926,  -2.434085,  -2.231245,\n",
       "        -2.028404,  -1.825564,  -1.622723,  -1.419883,  -1.217043,  -1.014202,\n",
       "        -0.811362,  -0.608521,  -0.405681,  -0.20284 ,   0.      ,   0.20284 ,\n",
       "         0.405681,   0.608521,   0.811362,   1.014202,   1.217043,   1.419883,\n",
       "         1.622723,   1.825564,   2.028404,   2.231245,   2.434085,   2.636926,\n",
       "         2.839766,   3.042607,   3.245447,   3.448287,   3.651128,   3.853968,\n",
       "         4.056809,   4.259649,   4.46249 ,   4.66533 ,   4.86817 ,   5.071011,\n",
       "         5.273851,   5.476692,   5.679532,   5.882373,   6.085213,   6.288053,\n",
       "         6.490894,   6.693734,   6.896575,   7.099415,   7.302256,   7.505096,\n",
       "         7.707937,   7.910777,   8.113617,   8.316458,   8.519298,   8.722139,\n",
       "         8.924979,   9.12782 ,   9.33066 ,   9.5335  ,   9.736341,   9.939181,\n",
       "        10.142022,  10.344862,  10.547703,  10.750543,  10.953383,  11.156224,\n",
       "        11.359064,  11.561905,  11.764745,  11.967586,  12.170426,  12.373267,\n",
       "        12.576107,  12.778947])</pre></div></li><li class='xr-var-item'><div class='xr-var-name'><span class='xr-has-index'>q_x</span></div><div class='xr-var-dims'>(q_x)</div><div class='xr-var-dtype'>float64</div><div class='xr-var-preview xr-preview'>-12.98 -12.78 ... 12.58 12.78</div><input id='attrs-38124dcd-8283-4439-be0c-d937b8438eae' class='xr-var-attrs-in' type='checkbox' disabled><label for='attrs-38124dcd-8283-4439-be0c-d937b8438eae' title='Show/Hide attributes'><svg class='icon xr-icon-file-text2'><use xlink:href='#icon-file-text2'></use></svg></label><input id='data-b1fb050b-b5d3-44eb-8504-eddb9438e92a' class='xr-var-data-in' type='checkbox'><label for='data-b1fb050b-b5d3-44eb-8504-eddb9438e92a' title='Show/Hide data repr'><svg class='icon xr-icon-database'><use xlink:href='#icon-database'></use></svg></label><div class='xr-var-attrs'><dl class='xr-attrs'></dl></div><div class='xr-var-data'><pre>array([-12.981788, -12.778947, -12.576107, -12.373267, -12.170426, -11.967586,\n",
       "       -11.764745, -11.561905, -11.359064, -11.156224, -10.953383, -10.750543,\n",
       "       -10.547703, -10.344862, -10.142022,  -9.939181,  -9.736341,  -9.5335  ,\n",
       "        -9.33066 ,  -9.12782 ,  -8.924979,  -8.722139,  -8.519298,  -8.316458,\n",
       "        -8.113617,  -7.910777,  -7.707937,  -7.505096,  -7.302256,  -7.099415,\n",
       "        -6.896575,  -6.693734,  -6.490894,  -6.288053,  -6.085213,  -5.882373,\n",
       "        -5.679532,  -5.476692,  -5.273851,  -5.071011,  -4.86817 ,  -4.66533 ,\n",
       "        -4.46249 ,  -4.259649,  -4.056809,  -3.853968,  -3.651128,  -3.448287,\n",
       "        -3.245447,  -3.042607,  -2.839766,  -2.636926,  -2.434085,  -2.231245,\n",
       "        -2.028404,  -1.825564,  -1.622723,  -1.419883,  -1.217043,  -1.014202,\n",
       "        -0.811362,  -0.608521,  -0.405681,  -0.20284 ,   0.      ,   0.20284 ,\n",
       "         0.405681,   0.608521,   0.811362,   1.014202,   1.217043,   1.419883,\n",
       "         1.622723,   1.825564,   2.028404,   2.231245,   2.434085,   2.636926,\n",
       "         2.839766,   3.042607,   3.245447,   3.448287,   3.651128,   3.853968,\n",
       "         4.056809,   4.259649,   4.46249 ,   4.66533 ,   4.86817 ,   5.071011,\n",
       "         5.273851,   5.476692,   5.679532,   5.882373,   6.085213,   6.288053,\n",
       "         6.490894,   6.693734,   6.896575,   7.099415,   7.302256,   7.505096,\n",
       "         7.707937,   7.910777,   8.113617,   8.316458,   8.519298,   8.722139,\n",
       "         8.924979,   9.12782 ,   9.33066 ,   9.5335  ,   9.736341,   9.939181,\n",
       "        10.142022,  10.344862,  10.547703,  10.750543,  10.953383,  11.156224,\n",
       "        11.359064,  11.561905,  11.764745,  11.967586,  12.170426,  12.373267,\n",
       "        12.576107,  12.778947])</pre></div></li><li class='xr-var-item'><div class='xr-var-name'><span class='xr-has-index'>q</span></div><div class='xr-var-dims'>(q)</div><div class='xr-var-dtype'>float64</div><div class='xr-var-preview xr-preview'>0.0 0.2028 0.4057 ... 12.58 12.78</div><input id='attrs-c66e433b-3712-46bb-9e3e-bbce161e570e' class='xr-var-attrs-in' type='checkbox' disabled><label for='attrs-c66e433b-3712-46bb-9e3e-bbce161e570e' title='Show/Hide attributes'><svg class='icon xr-icon-file-text2'><use xlink:href='#icon-file-text2'></use></svg></label><input id='data-c7953547-f60b-4da3-9bf5-fe9a9ccd1f60' class='xr-var-data-in' type='checkbox'><label for='data-c7953547-f60b-4da3-9bf5-fe9a9ccd1f60' title='Show/Hide data repr'><svg class='icon xr-icon-database'><use xlink:href='#icon-database'></use></svg></label><div class='xr-var-attrs'><dl class='xr-attrs'></dl></div><div class='xr-var-data'><pre>array([ 0.      ,  0.20284 ,  0.405681,  0.608521,  0.811362,  1.014202,\n",
       "        1.217043,  1.419883,  1.622723,  1.825564,  2.028404,  2.231245,\n",
       "        2.434085,  2.636926,  2.839766,  3.042607,  3.245447,  3.448287,\n",
       "        3.651128,  3.853968,  4.056809,  4.259649,  4.46249 ,  4.66533 ,\n",
       "        4.86817 ,  5.071011,  5.273851,  5.476692,  5.679532,  5.882373,\n",
       "        6.085213,  6.288053,  6.490894,  6.693734,  6.896575,  7.099415,\n",
       "        7.302256,  7.505096,  7.707937,  7.910777,  8.113617,  8.316458,\n",
       "        8.519298,  8.722139,  8.924979,  9.12782 ,  9.33066 ,  9.5335  ,\n",
       "        9.736341,  9.939181, 10.142022, 10.344862, 10.547703, 10.750543,\n",
       "       10.953383, 11.156224, 11.359064, 11.561905, 11.764745, 11.967586,\n",
       "       12.170426, 12.373267, 12.576107, 12.778947])</pre></div></li><li class='xr-var-item'><div class='xr-var-name'><span class='xr-has-index'>y</span></div><div class='xr-var-dims'>(y)</div><div class='xr-var-dtype'>int32</div><div class='xr-var-preview xr-preview'>0 1 2 3 4 5 ... 123 124 125 126 127</div><input id='attrs-8184c520-21e6-4674-bc7a-9ba9fb55e3b7' class='xr-var-attrs-in' type='checkbox' disabled><label for='attrs-8184c520-21e6-4674-bc7a-9ba9fb55e3b7' title='Show/Hide attributes'><svg class='icon xr-icon-file-text2'><use xlink:href='#icon-file-text2'></use></svg></label><input id='data-920a3fa2-759d-44ba-a323-f73c66108efb' class='xr-var-data-in' type='checkbox'><label for='data-920a3fa2-759d-44ba-a323-f73c66108efb' title='Show/Hide data repr'><svg class='icon xr-icon-database'><use xlink:href='#icon-database'></use></svg></label><div class='xr-var-attrs'><dl class='xr-attrs'></dl></div><div class='xr-var-data'><pre>array([  0,   1,   2,   3,   4,   5,   6,   7,   8,   9,  10,  11,  12,  13,\n",
       "        14,  15,  16,  17,  18,  19,  20,  21,  22,  23,  24,  25,  26,  27,\n",
       "        28,  29,  30,  31,  32,  33,  34,  35,  36,  37,  38,  39,  40,  41,\n",
       "        42,  43,  44,  45,  46,  47,  48,  49,  50,  51,  52,  53,  54,  55,\n",
       "        56,  57,  58,  59,  60,  61,  62,  63,  64,  65,  66,  67,  68,  69,\n",
       "        70,  71,  72,  73,  74,  75,  76,  77,  78,  79,  80,  81,  82,  83,\n",
       "        84,  85,  86,  87,  88,  89,  90,  91,  92,  93,  94,  95,  96,  97,\n",
       "        98,  99, 100, 101, 102, 103, 104, 105, 106, 107, 108, 109, 110, 111,\n",
       "       112, 113, 114, 115, 116, 117, 118, 119, 120, 121, 122, 123, 124, 125,\n",
       "       126, 127])</pre></div></li><li class='xr-var-item'><div class='xr-var-name'><span class='xr-has-index'>x</span></div><div class='xr-var-dims'>(x)</div><div class='xr-var-dtype'>int32</div><div class='xr-var-preview xr-preview'>0 1 2 3 4 5 ... 123 124 125 126 127</div><input id='attrs-a174da7f-b866-46e0-87ad-7b0ed1252463' class='xr-var-attrs-in' type='checkbox' disabled><label for='attrs-a174da7f-b866-46e0-87ad-7b0ed1252463' title='Show/Hide attributes'><svg class='icon xr-icon-file-text2'><use xlink:href='#icon-file-text2'></use></svg></label><input id='data-11ded905-d3c5-4387-a432-68b59ae78f34' class='xr-var-data-in' type='checkbox'><label for='data-11ded905-d3c5-4387-a432-68b59ae78f34' title='Show/Hide data repr'><svg class='icon xr-icon-database'><use xlink:href='#icon-database'></use></svg></label><div class='xr-var-attrs'><dl class='xr-attrs'></dl></div><div class='xr-var-data'><pre>array([  0,   1,   2,   3,   4,   5,   6,   7,   8,   9,  10,  11,  12,  13,\n",
       "        14,  15,  16,  17,  18,  19,  20,  21,  22,  23,  24,  25,  26,  27,\n",
       "        28,  29,  30,  31,  32,  33,  34,  35,  36,  37,  38,  39,  40,  41,\n",
       "        42,  43,  44,  45,  46,  47,  48,  49,  50,  51,  52,  53,  54,  55,\n",
       "        56,  57,  58,  59,  60,  61,  62,  63,  64,  65,  66,  67,  68,  69,\n",
       "        70,  71,  72,  73,  74,  75,  76,  77,  78,  79,  80,  81,  82,  83,\n",
       "        84,  85,  86,  87,  88,  89,  90,  91,  92,  93,  94,  95,  96,  97,\n",
       "        98,  99, 100, 101, 102, 103, 104, 105, 106, 107, 108, 109, 110, 111,\n",
       "       112, 113, 114, 115, 116, 117, 118, 119, 120, 121, 122, 123, 124, 125,\n",
       "       126, 127])</pre></div></li></ul></div></li><li class='xr-section-item'><input id='section-9315bb1c-1f34-4376-8745-d16c7ebaaa5b' class='xr-section-summary-in' type='checkbox'  checked><label for='section-9315bb1c-1f34-4376-8745-d16c7ebaaa5b' class='xr-section-summary' >Data variables: <span>(9)</span></label><div class='xr-section-inline-details'></div><div class='xr-section-details'><ul class='xr-var-list'><li class='xr-var-item'><div class='xr-var-name'><span>ddm_matrix_full</span></div><div class='xr-var-dims'>(lagtime, q_y, q_x)</div><div class='xr-var-dtype'>float64</div><div class='xr-var-preview xr-preview'>194.5 183.5 189.9 ... 192.0 196.8</div><input id='attrs-ee7e29f9-a266-4bed-81aa-e8ce646d7c2d' class='xr-var-attrs-in' type='checkbox' disabled><label for='attrs-ee7e29f9-a266-4bed-81aa-e8ce646d7c2d' title='Show/Hide attributes'><svg class='icon xr-icon-file-text2'><use xlink:href='#icon-file-text2'></use></svg></label><input id='data-064cfc3c-0742-4a45-a0c8-b0adf4635f85' class='xr-var-data-in' type='checkbox'><label for='data-064cfc3c-0742-4a45-a0c8-b0adf4635f85' title='Show/Hide data repr'><svg class='icon xr-icon-database'><use xlink:href='#icon-database'></use></svg></label><div class='xr-var-attrs'><dl class='xr-attrs'></dl></div><div class='xr-var-data'><pre>array([[[194.53933642, 183.46865602, 189.88360447, ..., 185.13501835,\n",
       "         189.88360447, 183.46865602],\n",
       "        [180.54977527, 184.19554752, 188.62431121, ..., 190.98754022,\n",
       "         197.43847912, 186.62178023],\n",
       "        [192.70890797, 195.93098872, 189.09845247, ..., 190.12737145,\n",
       "         189.83523821, 192.21421257],\n",
       "        ...,\n",
       "        [178.74506797, 186.95925279, 189.9972449 , ..., 190.31796269,\n",
       "         193.86216905, 184.71498966],\n",
       "        [192.70890797, 192.21421257, 189.83523821, ..., 194.82373533,\n",
       "         189.09845247, 195.93098872],\n",
       "        [180.54977527, 186.62178023, 197.43847912, ..., 189.320714  ,\n",
       "         188.62431121, 184.19554752]],\n",
       "\n",
       "       [[192.53678443, 184.98536047, 183.00178339, ..., 189.93758386,\n",
       "         183.00178339, 184.98536047],\n",
       "        [182.22340665, 190.38208686, 185.90468391, ..., 188.79454507,\n",
       "         188.52514631, 188.48204681],\n",
       "        [192.71415943, 196.71513926, 189.84504279, ..., 187.27424593,\n",
       "         187.74393152, 186.99244495],\n",
       "...\n",
       "        [224.60947387, 108.81451286, 189.02957545, ..., 137.44506309,\n",
       "         348.30437843, 228.73579002],\n",
       "        [216.96920343, 166.46373793, 174.79469182, ..., 166.69258334,\n",
       "         126.31953212, 140.52349943],\n",
       "        [164.20961535, 169.57957548, 133.76022938, ..., 125.77861768,\n",
       "         159.69240297, 247.86589588]],\n",
       "\n",
       "       [[ 75.33297495, 174.05006796, 155.35027909, ..., 233.98667431,\n",
       "         155.35027909, 174.05006796],\n",
       "        [167.22701098, 196.84765156, 192.02546007, ..., 131.6447673 ,\n",
       "         119.41026107, 235.53961919],\n",
       "        [132.75085561, 149.1865022 , 144.63052109, ..., 237.29431965,\n",
       "         217.6141243 , 128.83335999],\n",
       "        ...,\n",
       "        [244.06105601, 195.72999615, 198.70767797, ..., 346.86825864,\n",
       "         208.46454057, 182.9136883 ],\n",
       "        [132.75085561, 128.83335999, 217.6141243 , ..., 137.87697986,\n",
       "         144.63052109, 149.1865022 ],\n",
       "        [167.22701098, 235.53961919, 119.41026107, ..., 165.83630492,\n",
       "         192.02546007, 196.84765156]]])</pre></div></li><li class='xr-var-item'><div class='xr-var-name'><span>ddm_matrix</span></div><div class='xr-var-dims'>(lagtime, q)</div><div class='xr-var-dtype'>float64</div><div class='xr-var-preview xr-preview'>0.0 294.2 321.4 ... 201.1 200.4</div><input id='attrs-5e030f5a-0194-4b0b-b292-d63c2021b2fa' class='xr-var-attrs-in' type='checkbox' disabled><label for='attrs-5e030f5a-0194-4b0b-b292-d63c2021b2fa' title='Show/Hide attributes'><svg class='icon xr-icon-file-text2'><use xlink:href='#icon-file-text2'></use></svg></label><input id='data-dd0dcafd-30ac-4119-be66-1c932d295bf2' class='xr-var-data-in' type='checkbox'><label for='data-dd0dcafd-30ac-4119-be66-1c932d295bf2' title='Show/Hide data repr'><svg class='icon xr-icon-database'><use xlink:href='#icon-database'></use></svg></label><div class='xr-var-attrs'><dl class='xr-attrs'></dl></div><div class='xr-var-data'><pre>array([[   0.        ,  294.18943955,  321.41822078, ...,  192.93331805,\n",
       "         193.46556826,  192.76671589],\n",
       "       [   0.        ,  432.05714374,  490.9677582 , ...,  194.84772175,\n",
       "         195.06799833,  194.40459328],\n",
       "       [   0.        ,  535.36374381,  619.95883018, ...,  196.12616285,\n",
       "         196.21094092,  195.79399928],\n",
       "       ...,\n",
       "       [   0.        , 3966.56056507, 5791.89215548, ...,  205.00017796,\n",
       "         211.36062787,  212.61362392],\n",
       "       [   0.        , 4167.1712352 , 5456.14848464, ...,  203.8398704 ,\n",
       "         205.38454854,  207.78696548],\n",
       "       [   0.        , 3716.77402137, 6067.88205869, ...,  207.76466695,\n",
       "         201.06258553,  200.39635905]])</pre></div></li><li class='xr-var-item'><div class='xr-var-name'><span>first_image</span></div><div class='xr-var-dims'>(y, x)</div><div class='xr-var-dtype'>float64</div><div class='xr-var-preview xr-preview'>128.0 149.0 173.0 ... 229.0 215.0</div><input id='attrs-fafa2460-35f5-4068-9e81-a455905cdb95' class='xr-var-attrs-in' type='checkbox' disabled><label for='attrs-fafa2460-35f5-4068-9e81-a455905cdb95' title='Show/Hide attributes'><svg class='icon xr-icon-file-text2'><use xlink:href='#icon-file-text2'></use></svg></label><input id='data-e7d60ada-8db8-46a5-a6eb-7b4c2f677fe3' class='xr-var-data-in' type='checkbox'><label for='data-e7d60ada-8db8-46a5-a6eb-7b4c2f677fe3' title='Show/Hide data repr'><svg class='icon xr-icon-database'><use xlink:href='#icon-database'></use></svg></label><div class='xr-var-attrs'><dl class='xr-attrs'></dl></div><div class='xr-var-data'><pre>array([[128., 149., 173., ..., 178., 224., 255.],\n",
       "       [164., 163., 166., ..., 182., 197., 255.],\n",
       "       [208., 182., 175., ..., 178., 210., 255.],\n",
       "       ...,\n",
       "       [147., 162., 162., ..., 182., 196., 165.],\n",
       "       [201., 214., 234., ..., 189., 174., 178.],\n",
       "       [255., 255., 255., ..., 175., 229., 215.]])</pre></div></li><li class='xr-var-item'><div class='xr-var-name'><span>avg_image_ft</span></div><div class='xr-var-dims'>(q)</div><div class='xr-var-dtype'>float64</div><div class='xr-var-preview xr-preview'>0.0 1.293e+05 ... 104.7 105.3</div><input id='attrs-1e9d646f-512b-498f-bcfe-0587e6ac56be' class='xr-var-attrs-in' type='checkbox' disabled><label for='attrs-1e9d646f-512b-498f-bcfe-0587e6ac56be' title='Show/Hide attributes'><svg class='icon xr-icon-file-text2'><use xlink:href='#icon-file-text2'></use></svg></label><input id='data-19ad480a-6ed7-487a-9190-28a47de25ccd' class='xr-var-data-in' type='checkbox'><label for='data-19ad480a-6ed7-487a-9190-28a47de25ccd' title='Show/Hide data repr'><svg class='icon xr-icon-database'><use xlink:href='#icon-database'></use></svg></label><div class='xr-var-attrs'><dl class='xr-attrs'></dl></div><div class='xr-var-data'><pre>array([0.00000000e+00, 1.29341509e+05, 5.22511731e+03, 5.86989569e+03,\n",
       "       8.50478146e+03, 9.68446541e+03, 9.99103750e+03, 1.03319622e+04,\n",
       "       1.00264087e+04, 1.08058729e+04, 1.16343568e+04, 1.38669622e+04,\n",
       "       1.68988722e+04, 1.98642184e+04, 2.11800678e+04, 2.14311022e+04,\n",
       "       2.06130601e+04, 1.80258072e+04, 1.42561639e+04, 1.04082328e+04,\n",
       "       7.27537584e+03, 4.68549415e+03, 2.88015028e+03, 1.77658315e+03,\n",
       "       1.06139768e+03, 6.83505113e+02, 4.97908069e+02, 4.18238638e+02,\n",
       "       3.38383278e+02, 2.72050227e+02, 2.35672326e+02, 2.24525405e+02,\n",
       "       2.03430129e+02, 1.78436880e+02, 1.65009527e+02, 1.49291391e+02,\n",
       "       1.41201296e+02, 1.33121051e+02, 1.29764821e+02, 1.28159612e+02,\n",
       "       1.24131175e+02, 1.24052104e+02, 1.21220015e+02, 1.19076951e+02,\n",
       "       1.17509287e+02, 1.15310101e+02, 1.15268069e+02, 1.12572652e+02,\n",
       "       1.11849673e+02, 1.11765243e+02, 1.10247178e+02, 1.09703002e+02,\n",
       "       1.08834403e+02, 1.09662333e+02, 1.08597899e+02, 1.07728419e+02,\n",
       "       1.07789289e+02, 1.06907057e+02, 1.07036538e+02, 1.05981891e+02,\n",
       "       1.05125261e+02, 1.05313067e+02, 1.04737380e+02, 1.05326832e+02])</pre></div></li><li class='xr-var-item'><div class='xr-var-name'><span>num_pairs_per_dt</span></div><div class='xr-var-dims'>(lagtime)</div><div class='xr-var-dtype'>int32</div><div class='xr-var-preview xr-preview'>2999 2998 2997 1498 ... 20 17 15 13</div><input id='attrs-3cc92aa9-a621-4d9c-b1fa-310f59b686bb' class='xr-var-attrs-in' type='checkbox' disabled><label for='attrs-3cc92aa9-a621-4d9c-b1fa-310f59b686bb' title='Show/Hide attributes'><svg class='icon xr-icon-file-text2'><use xlink:href='#icon-file-text2'></use></svg></label><input id='data-8a29a3f2-1e79-4736-a0a2-ae905162ab7c' class='xr-var-data-in' type='checkbox'><label for='data-8a29a3f2-1e79-4736-a0a2-ae905162ab7c' title='Show/Hide data repr'><svg class='icon xr-icon-database'><use xlink:href='#icon-database'></use></svg></label><div class='xr-var-attrs'><dl class='xr-attrs'></dl></div><div class='xr-var-data'><pre>array([2999, 2998, 2997, 1498, 1498, 1497,  998,  998,  997,  748,  747,\n",
       "        598,  498,  497,  426,  372,  331,  270,  247,  212,  185,  164,\n",
       "        140,  123,  109,   94,   81,   71,   63,   54,   47,   41,   35,\n",
       "         31,   27,   23,   20,   17,   15,   13])</pre></div></li><li class='xr-var-item'><div class='xr-var-name'><span>B</span></div><div class='xr-var-dims'>()</div><div class='xr-var-dtype'>float64</div><div class='xr-var-preview xr-preview'>211.2</div><input id='attrs-d4cf0820-84cf-4929-8640-418eb7ce9e7c' class='xr-var-attrs-in' type='checkbox' disabled><label for='attrs-d4cf0820-84cf-4929-8640-418eb7ce9e7c' title='Show/Hide attributes'><svg class='icon xr-icon-file-text2'><use xlink:href='#icon-file-text2'></use></svg></label><input id='data-9f3a354b-40f3-4a0b-aba7-ba5993e03298' class='xr-var-data-in' type='checkbox'><label for='data-9f3a354b-40f3-4a0b-aba7-ba5993e03298' title='Show/Hide data repr'><svg class='icon xr-icon-database'><use xlink:href='#icon-database'></use></svg></label><div class='xr-var-attrs'><dl class='xr-attrs'></dl></div><div class='xr-var-data'><pre>array(211.17365621)</pre></div></li><li class='xr-var-item'><div class='xr-var-name'><span>B_std</span></div><div class='xr-var-dims'>()</div><div class='xr-var-dtype'>float64</div><div class='xr-var-preview xr-preview'>1.491</div><input id='attrs-c2abc0ba-0b63-48aa-aba6-a545b2cfbe1b' class='xr-var-attrs-in' type='checkbox' disabled><label for='attrs-c2abc0ba-0b63-48aa-aba6-a545b2cfbe1b' title='Show/Hide attributes'><svg class='icon xr-icon-file-text2'><use xlink:href='#icon-file-text2'></use></svg></label><input id='data-ab5231e7-d421-413f-b8f6-0958f92216b2' class='xr-var-data-in' type='checkbox'><label for='data-ab5231e7-d421-413f-b8f6-0958f92216b2' title='Show/Hide data repr'><svg class='icon xr-icon-database'><use xlink:href='#icon-database'></use></svg></label><div class='xr-var-attrs'><dl class='xr-attrs'></dl></div><div class='xr-var-data'><pre>array(1.49105881)</pre></div></li><li class='xr-var-item'><div class='xr-var-name'><span>Amplitude</span></div><div class='xr-var-dims'>(q)</div><div class='xr-var-dtype'>float64</div><div class='xr-var-preview xr-preview'>-211.2 2.585e+05 ... -1.699 -0.52</div><input id='attrs-24ef0822-9c55-42d7-a844-551b9da4ad4b' class='xr-var-attrs-in' type='checkbox' disabled><label for='attrs-24ef0822-9c55-42d7-a844-551b9da4ad4b' title='Show/Hide attributes'><svg class='icon xr-icon-file-text2'><use xlink:href='#icon-file-text2'></use></svg></label><input id='data-43c88cd7-2fa3-4db2-9161-4bf77d06a29b' class='xr-var-data-in' type='checkbox'><label for='data-43c88cd7-2fa3-4db2-9161-4bf77d06a29b' title='Show/Hide data repr'><svg class='icon xr-icon-database'><use xlink:href='#icon-database'></use></svg></label><div class='xr-var-attrs'><dl class='xr-attrs'></dl></div><div class='xr-var-data'><pre>array([-2.11173656e+02,  2.58471844e+05,  1.02390610e+04,  1.15286177e+04,\n",
       "        1.67983893e+04,  1.91577572e+04,  1.97709014e+04,  2.04527506e+04,\n",
       "        1.98416438e+04,  2.14005721e+04,  2.30575400e+04,  2.75227507e+04,\n",
       "        3.35865707e+04,  3.95172631e+04,  4.21489620e+04,  4.26510308e+04,\n",
       "        4.10149466e+04,  3.58404407e+04,  2.83011541e+04,  2.06052919e+04,\n",
       "        1.43395780e+04,  9.15981465e+03,  5.54912690e+03,  3.34199265e+03,\n",
       "        1.91162170e+03,  1.15583657e+03,  7.84642482e+02,  6.25303620e+02,\n",
       "        4.65592900e+02,  3.32926798e+02,  2.60170996e+02,  2.37877154e+02,\n",
       "        1.95686602e+02,  1.45700103e+02,  1.18845397e+02,  8.74091262e+01,\n",
       "        7.12289354e+01,  5.50684455e+01,  4.83559858e+01,  4.51455685e+01,\n",
       "        3.70886933e+01,  3.69305527e+01,  3.12663737e+01,  2.69802467e+01,\n",
       "        2.38449170e+01,  1.94465450e+01,  1.93624826e+01,  1.39716478e+01,\n",
       "        1.25256899e+01,  1.23568306e+01,  9.32069947e+00,  8.23234748e+00,\n",
       "        6.49514954e+00,  8.15100953e+00,  6.02214129e+00,  4.28318246e+00,\n",
       "        4.40492236e+00,  2.64045708e+00,  2.89942014e+00,  7.90126460e-01,\n",
       "       -9.23134186e-01, -5.47522559e-01, -1.69889697e+00, -5.19992889e-01])</pre></div></li><li class='xr-var-item'><div class='xr-var-name'><span>ISF</span></div><div class='xr-var-dims'>(lagtime, q)</div><div class='xr-var-dtype'>float64</div><div class='xr-var-preview xr-preview'>0.0 0.9997 0.9892 ... -4.952 -19.73</div><input id='attrs-ec8c76e6-a39f-4a30-a2bf-2553578bb4c2' class='xr-var-attrs-in' type='checkbox' disabled><label for='attrs-ec8c76e6-a39f-4a30-a2bf-2553578bb4c2' title='Show/Hide attributes'><svg class='icon xr-icon-file-text2'><use xlink:href='#icon-file-text2'></use></svg></label><input id='data-1f8667d8-3e41-459b-9606-679750ae8c91' class='xr-var-data-in' type='checkbox'><label for='data-1f8667d8-3e41-459b-9606-679750ae8c91' title='Show/Hide data repr'><svg class='icon xr-icon-database'><use xlink:href='#icon-database'></use></svg></label><div class='xr-var-attrs'><dl class='xr-attrs'></dl></div><div class='xr-var-data'><pre>array([[  0.        ,   0.99967882,   0.98923294, ..., -32.31431348,\n",
       "         -9.42328539, -34.39844623],\n",
       "       [  0.        ,   0.99914543,   0.97267385, ..., -28.81782979,\n",
       "         -8.48006746, -31.24863895],\n",
       "       [  0.        ,   0.99874574,   0.96007591, ..., -26.48287376,\n",
       "         -7.80731178, -28.57666779],\n",
       "       ...,\n",
       "       [  0.        ,   0.98547081,   0.45495798, ..., -10.27529479,\n",
       "          1.11005474,   3.76920654],\n",
       "       [  0.        ,   0.98469467,   0.48774845, ..., -12.39449068,\n",
       "         -2.40756842,  -5.51295585],\n",
       "       [  0.        ,   0.98643721,   0.42800337, ...,  -5.22620786,\n",
       "         -4.95155025, -19.7258549 ]])</pre></div></li></ul></div></li><li class='xr-section-item'><input id='section-a4f110a8-92bd-41f0-8834-ed66cfc1171d' class='xr-section-summary-in' type='checkbox'  ><label for='section-a4f110a8-92bd-41f0-8834-ed66cfc1171d' class='xr-section-summary' >Attributes: <span>(14)</span></label><div class='xr-section-inline-details'></div><div class='xr-section-details'><dl class='xr-attrs'><dt><span>units :</span></dt><dd>Intensity</dd><dt><span>lagtime :</span></dt><dd>sec</dd><dt><span>q :</span></dt><dd>μm$^{-1}$</dd><dt><span>x :</span></dt><dd>pixels</dd><dt><span>y :</span></dt><dd>pixels</dd><dt><span>info :</span></dt><dd>ddm_matrix is the averages of FFT difference images, ravs are the radial averages</dd><dt><span>BackgroundMethod :</span></dt><dd>0</dd><dt><span>OverlapMethod :</span></dt><dd>2</dd><dt><span>DataDirectory :</span></dt><dd>./</dd><dt><span>FileName :</span></dt><dd>images_nobin_40x_128x128_8bit.tif</dd><dt><span>pixel_size :</span></dt><dd>0.242</dd><dt><span>frame_rate :</span></dt><dd>41.7</dd><dt><span>number_lag_times :</span></dt><dd>40</dd><dt><span>last_lag_time :</span></dt><dd>600</dd></dl></div></li></ul></div></div>"
      ],
      "text/plain": [
       "<xarray.Dataset>\n",
       "Dimensions:           (lagtime: 40, q_y: 128, q_x: 128, q: 64, y: 128, x: 128, frames: 40)\n",
       "Coordinates:\n",
       "  * lagtime           (lagtime) float64 0.02398 0.04796 0.07194 ... 12.59 14.36\n",
       "    framelag          (frames) int32 1 2 3 4 5 6 7 ... 308 352 402 459 525 599\n",
       "  * q_y               (q_y) float64 -12.98 -12.78 -12.58 ... 12.37 12.58 12.78\n",
       "  * q_x               (q_x) float64 -12.98 -12.78 -12.58 ... 12.37 12.58 12.78\n",
       "  * q                 (q) float64 0.0 0.2028 0.4057 0.6085 ... 12.37 12.58 12.78\n",
       "  * y                 (y) int32 0 1 2 3 4 5 6 7 ... 121 122 123 124 125 126 127\n",
       "  * x                 (x) int32 0 1 2 3 4 5 6 7 ... 121 122 123 124 125 126 127\n",
       "Dimensions without coordinates: frames\n",
       "Data variables:\n",
       "    ddm_matrix_full   (lagtime, q_y, q_x) float64 194.5 183.5 ... 192.0 196.8\n",
       "    ddm_matrix        (lagtime, q) float64 0.0 294.2 321.4 ... 207.8 201.1 200.4\n",
       "    first_image       (y, x) float64 128.0 149.0 173.0 ... 175.0 229.0 215.0\n",
       "    avg_image_ft      (q) float64 0.0 1.293e+05 5.225e+03 ... 105.3 104.7 105.3\n",
       "    num_pairs_per_dt  (lagtime) int32 2999 2998 2997 1498 1498 ... 20 17 15 13\n",
       "    B                 float64 211.2\n",
       "    B_std             float64 1.491\n",
       "    Amplitude         (q) float64 -211.2 2.585e+05 1.024e+04 ... -1.699 -0.52\n",
       "    ISF               (lagtime, q) float64 0.0 0.9997 0.9892 ... -4.952 -19.73\n",
       "Attributes: (12/14)\n",
       "    units:             Intensity\n",
       "    lagtime:           sec\n",
       "    q:                 μm$^{-1}$\n",
       "    x:                 pixels\n",
       "    y:                 pixels\n",
       "    info:              ddm_matrix is the averages of FFT difference images, r...\n",
       "    ...                ...\n",
       "    DataDirectory:     ./\n",
       "    FileName:          images_nobin_40x_128x128_8bit.tif\n",
       "    pixel_size:        0.242\n",
       "    frame_rate:        41.7\n",
       "    number_lag_times:  40\n",
       "    last_lag_time:     600"
      ]
     },
     "metadata": {},
     "output_type": "display_data"
    }
   ],
   "source": [
    "display(ddm_calc.ddm_dataset)"
   ]
  },
  {
   "cell_type": "markdown",
   "metadata": {},
   "source": [
    "The results are saved in an [xarray Dataset](https://xarray.pydata.org/en/stable/generated/xarray.Dataset.html) format. "
   ]
  },
  {
   "cell_type": "markdown",
   "metadata": {},
   "source": [
    "### 5.4 Amplitude and background parameters"
   ]
  },
  {
   "cell_type": "markdown",
   "metadata": {},
   "source": [
    "Note that one of the produced figures show a plot of $\\left< | \\tilde{I}(q,t) |^2 \\right>_t$ vs $q$. This is used to estimate the background and amplitude. Other methods of estimating the background $B$ can be used if one sets the parameter `background_method` either in the YAML file or as an optional keyword argument to the function `calculate_DDM_matrix`. "
   ]
  },
  {
   "cell_type": "code",
   "execution_count": 12,
   "metadata": {},
   "outputs": [
    {
     "name": "stdout",
     "output_type": "stream",
     "text": [
      "Estimated background: 211.2\n"
     ]
    }
   ],
   "source": [
    "print(\"Estimated background: %.1f\" % ddm_calc.ddm_dataset.B)"
   ]
  },
  {
   "cell_type": "markdown",
   "metadata": {},
   "source": [
    "## 6. Fitting the DDM matrix or ISF"
   ]
  },
  {
   "cell_type": "markdown",
   "metadata": {},
   "source": [
    "### 6.1 Initiazing DDM_Fit class \n"
   ]
  },
  {
   "cell_type": "code",
   "execution_count": 13,
   "metadata": {
    "scrolled": true
   },
   "outputs": [
    {
     "data": {
      "text/html": [
       "<div>\n",
       "<style scoped>\n",
       "    .dataframe tbody tr th:only-of-type {\n",
       "        vertical-align: middle;\n",
       "    }\n",
       "\n",
       "    .dataframe tbody tr th {\n",
       "        vertical-align: top;\n",
       "    }\n",
       "\n",
       "    .dataframe thead th {\n",
       "        text-align: right;\n",
       "    }\n",
       "</style>\n",
       "<table border=\"1\" class=\"dataframe\">\n",
       "  <thead>\n",
       "    <tr style=\"text-align: right;\">\n",
       "      <th></th>\n",
       "      <th>Initial guess</th>\n",
       "      <th>Minimum</th>\n",
       "      <th>Maximum</th>\n",
       "    </tr>\n",
       "  </thead>\n",
       "  <tbody>\n",
       "    <tr>\n",
       "      <th>Amplitude</th>\n",
       "      <td>100.0</td>\n",
       "      <td>1.000</td>\n",
       "      <td>1000000.0</td>\n",
       "    </tr>\n",
       "    <tr>\n",
       "      <th>Tau</th>\n",
       "      <td>1.0</td>\n",
       "      <td>0.001</td>\n",
       "      <td>10.0</td>\n",
       "    </tr>\n",
       "    <tr>\n",
       "      <th>Background</th>\n",
       "      <td>25000.0</td>\n",
       "      <td>0.000</td>\n",
       "      <td>10000000.0</td>\n",
       "    </tr>\n",
       "    <tr>\n",
       "      <th>StretchingExp</th>\n",
       "      <td>1.0</td>\n",
       "      <td>0.500</td>\n",
       "      <td>1.1</td>\n",
       "    </tr>\n",
       "  </tbody>\n",
       "</table>\n",
       "</div>"
      ],
      "text/plain": [
       "               Initial guess  Minimum     Maximum\n",
       "Amplitude              100.0    1.000   1000000.0\n",
       "Tau                      1.0    0.001        10.0\n",
       "Background           25000.0    0.000  10000000.0\n",
       "StretchingExp            1.0    0.500         1.1"
      ]
     },
     "metadata": {},
     "output_type": "display_data"
    },
    {
     "name": "stdout",
     "output_type": "stream",
     "text": [
      "Loading file ./images_nobin_40x_128x128_8bit_ddmmatrix.nc ...\n"
     ]
    }
   ],
   "source": [
    "ddm_fit = ddm.DDM_Fit(ddm_calc.data_yaml)"
   ]
  },
  {
   "cell_type": "markdown",
   "metadata": {},
   "source": [
    "### 6.2 Select model"
   ]
  },
  {
   "cell_type": "code",
   "execution_count": 15,
   "metadata": {},
   "outputs": [
    {
     "data": {
      "text/html": [
       "<div>\n",
       "<style scoped>\n",
       "    .dataframe tbody tr th:only-of-type {\n",
       "        vertical-align: middle;\n",
       "    }\n",
       "\n",
       "    .dataframe tbody tr th {\n",
       "        vertical-align: top;\n",
       "    }\n",
       "\n",
       "    .dataframe thead th {\n",
       "        text-align: right;\n",
       "    }\n",
       "</style>\n",
       "<table border=\"1\" class=\"dataframe\">\n",
       "  <thead>\n",
       "    <tr style=\"text-align: right;\">\n",
       "      <th></th>\n",
       "      <th>Initial guess</th>\n",
       "      <th>Minimum</th>\n",
       "      <th>Maximum</th>\n",
       "    </tr>\n",
       "  </thead>\n",
       "  <tbody>\n",
       "    <tr>\n",
       "      <th>Amplitude</th>\n",
       "      <td>100.0</td>\n",
       "      <td>1.000</td>\n",
       "      <td>1000000.0</td>\n",
       "    </tr>\n",
       "    <tr>\n",
       "      <th>Tau</th>\n",
       "      <td>1.0</td>\n",
       "      <td>0.001</td>\n",
       "      <td>10.0</td>\n",
       "    </tr>\n",
       "    <tr>\n",
       "      <th>Background</th>\n",
       "      <td>25000.0</td>\n",
       "      <td>0.000</td>\n",
       "      <td>10000000.0</td>\n",
       "    </tr>\n",
       "    <tr>\n",
       "      <th>StretchingExp</th>\n",
       "      <td>1.0</td>\n",
       "      <td>0.500</td>\n",
       "      <td>1.1</td>\n",
       "    </tr>\n",
       "  </tbody>\n",
       "</table>\n",
       "</div>"
      ],
      "text/plain": [
       "               Initial guess  Minimum     Maximum\n",
       "Amplitude              100.0    1.000   1000000.0\n",
       "Tau                      1.0    0.001        10.0\n",
       "Background           25000.0    0.000  10000000.0\n",
       "StretchingExp            1.0    0.500         1.1"
      ]
     },
     "metadata": {},
     "output_type": "display_data"
    }
   ],
   "source": [
    "ddm_fit.reload_fit_model_by_name('DDM Matrix - Single Exponential')"
   ]
  },
  {
   "cell_type": "markdown",
   "metadata": {},
   "source": [
    "The model to be used is specified in the YAML file. However, one can select a different model after the YAML file has been loaded using the `reload_fit_model_by_name` function as shown above. "
   ]
  },
  {
   "cell_type": "markdown",
   "metadata": {},
   "source": [
    "### 6.3 Setting intial guesses and bounds"
   ]
  },
  {
   "cell_type": "code",
   "execution_count": 17,
   "metadata": {},
   "outputs": [
    {
     "name": "stdout",
     "output_type": "stream",
     "text": [
      "Parameter 'Tau' set to 2.\n"
     ]
    }
   ],
   "source": [
    "ddm_fit.set_parameter_initial_guess('Tau', 2)"
   ]
  },
  {
   "cell_type": "markdown",
   "metadata": {},
   "source": [
    "The initial guesses for all parameters along with the lower and upper bounds should be set in the YAML file. However, if one would like to change those values or if one uses a new model which contains additional parameters, these values can be set using the `set_parameter_initial_guess` and `set_parameter_bounds` functions."
   ]
  },
  {
   "cell_type": "markdown",
   "metadata": {},
   "source": [
    "### 6.4 Fit the data"
   ]
  },
  {
   "cell_type": "code",
   "execution_count": 16,
   "metadata": {},
   "outputs": [
    {
     "ename": "KeyError",
     "evalue": "'Auto_update_good_q_range'",
     "output_type": "error",
     "traceback": [
      "\u001b[1;31m---------------------------------------------------------------------------\u001b[0m",
      "\u001b[1;31mKeyError\u001b[0m                                  Traceback (most recent call last)",
      "\u001b[1;32m<ipython-input-16-48efa4a29567>\u001b[0m in \u001b[0;36m<module>\u001b[1;34m\u001b[0m\n\u001b[1;32m----> 1\u001b[1;33m \u001b[0mfit01\u001b[0m \u001b[1;33m=\u001b[0m \u001b[0mddm_fit\u001b[0m\u001b[1;33m.\u001b[0m\u001b[0mfit\u001b[0m\u001b[1;33m(\u001b[0m\u001b[1;33m)\u001b[0m\u001b[1;33m\u001b[0m\u001b[1;33m\u001b[0m\u001b[0m\n\u001b[0m",
      "\u001b[1;32m~\\Documents\\GitHub\\PyDDM\\PyDDM\\ddm_analysis_and_fitting.py\u001b[0m in \u001b[0;36mfit\u001b[1;34m(self, quiet, save, name_fit, use_lsqr_cf, update_tau_based_on_estimated_diffcoeff, estimated_diffcoeff, update_tau_based_on_estimated_velocity, estimated_velocity, update_tau2_based_on_estimated_diffcoeff, estimated_diffcoeff2, update_tau2_based_on_estimated_velocity, estimated_velocity2, update_limits_on_tau, updated_lims_on_tau_fraction, use_A_from_images_as_guess, update_limits_on_A, updated_lims_on_A_fraction, debug, display_table)\u001b[0m\n\u001b[0;32m   1178\u001b[0m         \u001b[1;32melse\u001b[0m\u001b[1;33m:\u001b[0m\u001b[1;33m\u001b[0m\u001b[1;33m\u001b[0m\u001b[0m\n\u001b[0;32m   1179\u001b[0m             \u001b[0mforce_q_range\u001b[0m \u001b[1;33m=\u001b[0m \u001b[1;32mNone\u001b[0m\u001b[1;33m\u001b[0m\u001b[1;33m\u001b[0m\u001b[0m\n\u001b[1;32m-> 1180\u001b[1;33m         \u001b[1;32mif\u001b[0m \u001b[0mself\u001b[0m\u001b[1;33m.\u001b[0m\u001b[0mcontent\u001b[0m\u001b[1;33m[\u001b[0m\u001b[1;34m'Fitting_parameters'\u001b[0m\u001b[1;33m]\u001b[0m\u001b[1;33m[\u001b[0m\u001b[1;34m'Auto_update_good_q_range'\u001b[0m\u001b[1;33m]\u001b[0m\u001b[1;33m:\u001b[0m\u001b[1;33m\u001b[0m\u001b[1;33m\u001b[0m\u001b[0m\n\u001b[0m\u001b[0;32m   1181\u001b[0m             \u001b[0mupdate_good_q_range\u001b[0m \u001b[1;33m=\u001b[0m \u001b[1;32mTrue\u001b[0m\u001b[1;33m\u001b[0m\u001b[1;33m\u001b[0m\u001b[0m\n\u001b[0;32m   1182\u001b[0m         \u001b[1;32melse\u001b[0m\u001b[1;33m:\u001b[0m\u001b[1;33m\u001b[0m\u001b[1;33m\u001b[0m\u001b[0m\n",
      "\u001b[1;31mKeyError\u001b[0m: 'Auto_update_good_q_range'"
     ]
    }
   ],
   "source": [
    "fit01 = ddm_fit.fit()"
   ]
  },
  {
   "cell_type": "markdown",
   "metadata": {},
   "source": [
    "## 7. Interpreting the fit results"
   ]
  },
  {
   "cell_type": "markdown",
   "metadata": {},
   "source": [
    "### 7.1 Generating figures"
   ]
  },
  {
   "cell_type": "markdown",
   "metadata": {},
   "source": [
    "We can now take a look at the best fit parameters determined by the fitting code. We can generate a set of plots and have the output saved as PDF with the function `fit_report`. This takes a few arguments, including:\n",
    "* the result of the fit in an xarray Dataset (here `fit01`)\n",
    "* `q_indices`: the DDM matrix or the ISF (whichever was used in the fitting) will be plotted at these $q$-values specified by their index in the array of $q$-values\n",
    "* `forced_qs`: range of $q$-values (specified, again, by the index) for which to extract power law relationship between the decay time $\\tau$ and $q$"
   ]
  },
  {
   "cell_type": "code",
   "execution_count": null,
   "metadata": {},
   "outputs": [],
   "source": [
    "ddm.fit_report(fit01, q_indices=[3,6,9,22], forced_qs=[4,16], use_new_tau=True, show=True)"
   ]
  },
  {
   "cell_type": "markdown",
   "metadata": {},
   "source": [
    "### 7.2 Inspecting fits"
   ]
  },
  {
   "cell_type": "code",
   "execution_count": null,
   "metadata": {},
   "outputs": [],
   "source": [
    "%matplotlib notebook\n",
    "fig, (ax, ax2) = plt.subplots(2, 1)\n",
    "browser = ddm.Browse_DDM_Fits(fig, ax, ax2, fit02)\n",
    "\n",
    "fig.canvas.mpl_connect('pick_event', browser.on_pick)\n",
    "fig.canvas.mpl_connect('key_press_event', browser.on_press)\n",
    "\n",
    "ax.set_title('Decay time vs wavevector')\n",
    "ax.set_xlabel(\"q\")\n",
    "ax.set_ylabel(\"tau (s)\")"
   ]
  },
  {
   "cell_type": "markdown",
   "metadata": {},
   "source": [
    "Using the `Browse_DDM_Fits` class as shown above, one can interactively inspect the fits (to either the DDM matrix or the ISF) by selecting the appropriate point on the $\\tau$ vs $q$ plot or by pressing 'N' or 'P' for next or previous. "
   ]
  },
  {
   "cell_type": "markdown",
   "metadata": {},
   "source": [
    "### 7.3 Plot decay time vs. wavevector"
   ]
  },
  {
   "cell_type": "code",
   "execution_count": null,
   "metadata": {},
   "outputs": [],
   "source": []
  },
  {
   "cell_type": "code",
   "execution_count": null,
   "metadata": {},
   "outputs": [],
   "source": []
  },
  {
   "cell_type": "code",
   "execution_count": null,
   "metadata": {},
   "outputs": [],
   "source": []
  },
  {
   "cell_type": "markdown",
   "metadata": {},
   "source": [
    "## 8. Saving the results"
   ]
  },
  {
   "cell_type": "markdown",
   "metadata": {},
   "source": [
    "### 8.1 Save fit results to netCDF format"
   ]
  },
  {
   "cell_type": "code",
   "execution_count": null,
   "metadata": {},
   "outputs": [],
   "source": [
    "fit01.to_netcdf(\"fit_results_single_exponential.nc\")"
   ]
  },
  {
   "cell_type": "markdown",
   "metadata": {},
   "source": [
    "### 8.2 Save fit results to an Excel file"
   ]
  },
  {
   "cell_type": "code",
   "execution_count": null,
   "metadata": {},
   "outputs": [],
   "source": [
    "ddm.save_fit_results_to_excel(fit01)"
   ]
  }
 ],
 "metadata": {
  "kernelspec": {
   "display_name": "Python 3",
   "language": "python",
   "name": "python3"
  },
  "language_info": {
   "codemirror_mode": {
    "name": "ipython",
    "version": 3
   },
   "file_extension": ".py",
   "mimetype": "text/x-python",
   "name": "python",
   "nbconvert_exporter": "python",
   "pygments_lexer": "ipython3",
   "version": "3.8.5"
  },
  "toc-autonumbering": false,
  "toc-showcode": false,
  "toc-showmarkdowntxt": false,
  "toc-showtags": false,
  "widgets": {
   "state": {
    "0689152f16ed41dc8a8bcb723dd208ff": {
     "views": [
      {
       "cell_index": 12
      }
     ]
    },
    "26aa4e49158c4ac1849007468d752942": {
     "views": [
      {
       "cell_index": 5
      }
     ]
    },
    "2f4331df93e34013bb2c39527f242747": {
     "views": [
      {
       "cell_index": 12
      }
     ]
    },
    "44268e92f7a341398441a40371d4d52e": {
     "views": [
      {
       "cell_index": 12
      }
     ]
    },
    "865c7b14e4224de59bdedc2a153c180c": {
     "views": [
      {
       "cell_index": 12
      }
     ]
    },
    "875f47d176124605be1a53d9c460194d": {
     "views": [
      {
       "cell_index": 4
      }
     ]
    },
    "a7696b918cb04f9dba715f91419757d3": {
     "views": [
      {
       "cell_index": 5
      }
     ]
    },
    "a7856b7a541d49899761758860c70a33": {
     "views": [
      {
       "cell_index": 12
      }
     ]
    },
    "f3ec44c7464c43d6bb1b7c50fc36cceb": {
     "views": [
      {
       "cell_index": 5
      }
     ]
    },
    "f848a825e63a484f96afe2eaf70e7127": {
     "views": [
      {
       "cell_index": 5
      }
     ]
    }
   },
   "version": "1.2.0"
  }
 },
 "nbformat": 4,
 "nbformat_minor": 4
}
