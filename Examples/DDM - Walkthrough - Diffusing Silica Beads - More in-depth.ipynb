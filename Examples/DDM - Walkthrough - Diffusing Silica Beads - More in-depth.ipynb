{
 "cells": [
  {
   "cell_type": "markdown",
   "metadata": {},
   "source": [
    "We'll be using differential dynamic microscopy. This technique was first described in 2008 in an article in PRL by Cerbino and Trappe. \n",
    "![PRL image](../Tutorials/DDM_Paper_PRL.PNG)\n",
    "\n",
    "You can find the paper [here](https://journals.aps.org/prl/abstract/10.1103/PhysRevLett.100.188102). "
   ]
  },
  {
   "cell_type": "markdown",
   "metadata": {},
   "source": [
    "The heart of the DDM code (found in the `ddm_calc.py` file) is the computation of the image structure function. This is found by taking the average of the Fourier transforms of all image *differences*. By \"image differences,\" I mean the result of subtracting two images separated by a given lag time $\\Delta t$.\n",
    "\n",
    "To describe the process mathematically, we find the difference between images separated by some lag time $\\Delta t$:\n",
    "$$\\Delta I = I(x,y;t) - I(x,y;t + \\Delta t)$$\n",
    "\n",
    "For a given $\\Delta t$ all such image differences are calculated. We then Fourier transform each $\\Delta I$ and average all of the same $\\Delta t$.\n",
    "\n",
    "This results in the image structure function $D(q_x,q_y,\\Delta t)$."
   ]
  },
  {
   "cell_type": "markdown",
   "metadata": {},
   "source": [
    "<div class=\"alert alert-block alert-info\">\n",
    "<b>Tip:</b> Use blue boxes (alert-info) for tips and notes. \n",
    "If it’s a note, you don’t have to include the word “Note”.\n",
    "</div>"
   ]
  },
  {
   "cell_type": "markdown",
   "metadata": {},
   "source": [
    "## Importing the necessary modules"
   ]
  },
  {
   "cell_type": "markdown",
   "metadata": {},
   "source": [
    "### Modules for plotting\n",
    "We use [matplotlib](https://matplotlib.org/) for creating figures and plots. Note that we use:\n",
    "```python\n",
    "%matplotlib inline\n",
    "```\n",
    "This seets the backend of matplotlib to `inline` which means the plots are included in the notebook. If you want the plots to also be interactive (e.g., having the ability to zoom, scroll, and save) then use:\n",
    "```python\n",
    "%matplotlib notebook\n",
    "```"
   ]
  },
  {
   "cell_type": "code",
   "execution_count": null,
   "metadata": {},
   "outputs": [],
   "source": [
    "%matplotlib inline\n",
    "import matplotlib\n",
    "import matplotlib.pyplot as plt"
   ]
  },
  {
   "cell_type": "markdown",
   "metadata": {},
   "source": [
    "### Modules for numerical work\n",
    "Here, we import [numpy](https://numpy.org/) and [xarray](https://xarray.pydata.org/en/stable/). \n",
    "\n",
    "Note that `xarray` might not have come with your Anaconda Python distribution (or whichever other distribution you installed). If that is the case, you'll need to [install](https://xarray.pydata.org/en/stable/getting-started-guide/installing.html) this package. "
   ]
  },
  {
   "cell_type": "code",
   "execution_count": null,
   "metadata": {},
   "outputs": [],
   "source": [
    "import numpy as np #numerical python used for working with arrays, mathematical operations\n",
    "import xarray as xr #package for labeling and adding metadata to multi-dimensional arrays"
   ]
  },
  {
   "cell_type": "markdown",
   "metadata": {},
   "source": [
    "### Import the PyDDM package\n",
    "Make use you append to `sys.path` the directory containing the PyDDM code. "
   ]
  },
  {
   "cell_type": "code",
   "execution_count": null,
   "metadata": {},
   "outputs": [],
   "source": [
    "import sys\n",
    "sys.path.append(\"../PyDDM\") #must point to the PyDDM folder\n",
    "import ddm_analysis_and_fitting as ddm"
   ]
  },
  {
   "cell_type": "markdown",
   "metadata": {},
   "source": [
    "## Initiazing DDM_Analysis class and computing the DDM matrix\n",
    "The instance of the `DDM_Analysis` class we create will need, when initialized, metadata about the images to analyze and the analysis and fitting parameters. This can be done by using a [yaml](https://yaml.org/) file as shown in the following cell of code (there, the metadata is saved in the file \"*example_data_silica_beads.yml*\". But one can also initialize `DDM_Analysis` with a dictionary containing the necessary metadata. One way to create such a dictionary and then using it to initialize `DDM_Analysis` is shown below. \n",
    "```python\n",
    "import yaml\n",
    "ddm_analysis_parameters_str = \"\"\"\n",
    "DataDirectory: 'C:/Users/rmcgorty/Documents/GitHub/DDM-at-USD/ExampleData/'\n",
    "FileName: 'images_nobin_40x_128x128_8bit.tif'\n",
    "Metadata:\n",
    "  pixel_size: 0.242 # size of pixel in um\n",
    "  frame_rate: 41.7 #frames per second\n",
    "Analysis_parameters:\n",
    "  number_lagtimes: 40\n",
    "  last_lag_time: 600\n",
    "  binning: no \n",
    "Fitting_parameters:\n",
    "  model: 'DDM Matrix - Single Exponential' \n",
    "  Tau: [1.0, 0.001, 10]\n",
    "  StretchingExp: [1.0, 0.5, 1.1]\n",
    "  Amplitude: [1e2, 1, 1e6]\n",
    "  Background: [2.5e4, 0, 1e7]\n",
    "  Good_q_range: [5, 20]\n",
    "  Auto_update_good_q_range: True\n",
    "\"\"\"\n",
    "parameters_as_dictionary = yaml.safe_load(ddm_analysis_parameters_str)\n",
    "ddm_calc = ddm.DDM_Analysis(parameters_as_dictionary)\n",
    "```"
   ]
  },
  {
   "cell_type": "code",
   "execution_count": null,
   "metadata": {},
   "outputs": [],
   "source": [
    "ddm_calc = ddm.DDM_Analysis(\"example_data_silica_beads.yml\")"
   ]
  },
  {
   "cell_type": "code",
   "execution_count": null,
   "metadata": {
    "scrolled": false
   },
   "outputs": [],
   "source": [
    "ddm_calc.calculate_DDM_matrix()"
   ]
  },
  {
   "cell_type": "markdown",
   "metadata": {},
   "source": [
    "## Initiazing DDM_Fit class and fitting our data to a model"
   ]
  },
  {
   "cell_type": "code",
   "execution_count": null,
   "metadata": {},
   "outputs": [],
   "source": [
    "ddm_fit = ddm.DDM_Fit(ddm_calc.data_yaml)"
   ]
  },
  {
   "cell_type": "code",
   "execution_count": null,
   "metadata": {},
   "outputs": [],
   "source": [
    "ddm_calc.data_yaml"
   ]
  },
  {
   "cell_type": "code",
   "execution_count": null,
   "metadata": {},
   "outputs": [],
   "source": [
    "print(ddm_fit)"
   ]
  },
  {
   "cell_type": "code",
   "execution_count": null,
   "metadata": {},
   "outputs": [],
   "source": [
    "fit01 = ddm_fit.fit(name_fit = 'fit01')"
   ]
  },
  {
   "cell_type": "code",
   "execution_count": null,
   "metadata": {
    "scrolled": false
   },
   "outputs": [],
   "source": [
    "%matplotlib inline\n",
    "ddm.fit_report(fit01, q_indices=[3,6,9,22], forced_qs=[4,16], use_new_tau=True, show=True)"
   ]
  },
  {
   "cell_type": "code",
   "execution_count": null,
   "metadata": {},
   "outputs": [],
   "source": []
  },
  {
   "cell_type": "markdown",
   "metadata": {},
   "source": [
    "### Trying a different mathematical model"
   ]
  },
  {
   "cell_type": "code",
   "execution_count": null,
   "metadata": {},
   "outputs": [],
   "source": [
    "ddm_fit.reload_fit_model_by_name(\"ISF - Single Exponential\")"
   ]
  },
  {
   "cell_type": "code",
   "execution_count": null,
   "metadata": {},
   "outputs": [],
   "source": [
    "plt.figure()\n",
    "plt.semilogx(ddm_fit.ddm_dataset.lagtime, ddm_fit.ddm_dataset.ddm_matrix[:,-1],'ro')\n",
    "plt.title(\"Looking at highest q (typically, quickest to decay)\")\n",
    "plt.xlabel(\"Lag time (s)\")\n",
    "plt.ylabel(\"DDM Matrix\")"
   ]
  },
  {
   "cell_type": "code",
   "execution_count": null,
   "metadata": {},
   "outputs": [],
   "source": [
    "ddm_fit.ddm_dataset = ddm.recalculate_ISF_with_new_background(ddm_fit.ddm_dataset, 10)"
   ]
  },
  {
   "cell_type": "code",
   "execution_count": null,
   "metadata": {},
   "outputs": [],
   "source": [
    "fit02 = ddm_fit.fit(name_fit = 'fit02', display_table=False)"
   ]
  },
  {
   "cell_type": "code",
   "execution_count": null,
   "metadata": {
    "scrolled": false
   },
   "outputs": [],
   "source": [
    "ddm.fit_report(fit02, q_indices=[3,6,9,22], forced_qs=[4,16], use_new_tau=True, show=True)"
   ]
  },
  {
   "cell_type": "code",
   "execution_count": null,
   "metadata": {},
   "outputs": [],
   "source": []
  },
  {
   "cell_type": "markdown",
   "metadata": {},
   "source": [
    "## Interactive with matplotlib"
   ]
  },
  {
   "cell_type": "code",
   "execution_count": null,
   "metadata": {},
   "outputs": [],
   "source": [
    "%matplotlib notebook\n",
    "fig, (ax, ax2) = plt.subplots(2, 1)\n",
    "browser = ddm.Browse_DDM_Fits(fig, ax, ax2, fit02)\n",
    "\n",
    "fig.canvas.mpl_connect('pick_event', browser.on_pick)\n",
    "fig.canvas.mpl_connect('key_press_event', browser.on_press)\n",
    "\n",
    "ax.set_title('Decay time vs wavevector')\n",
    "ax.set_xlabel(\"q\")\n",
    "ax.set_ylabel(\"tau (s)\")"
   ]
  },
  {
   "cell_type": "code",
   "execution_count": null,
   "metadata": {},
   "outputs": [],
   "source": []
  },
  {
   "cell_type": "markdown",
   "metadata": {},
   "source": [
    "## Saving the results"
   ]
  },
  {
   "cell_type": "code",
   "execution_count": null,
   "metadata": {},
   "outputs": [],
   "source": [
    "ddm.save_fit_results_to_excel(fit01)"
   ]
  },
  {
   "cell_type": "code",
   "execution_count": null,
   "metadata": {},
   "outputs": [],
   "source": [
    "fit01.to_netcdf(\"example_netcdf_file.nc\")"
   ]
  },
  {
   "cell_type": "code",
   "execution_count": null,
   "metadata": {},
   "outputs": [],
   "source": [
    "loaded_netcdf_file = xr.open_dataset(\"example_netcdf_file.nc\")"
   ]
  },
  {
   "cell_type": "code",
   "execution_count": null,
   "metadata": {},
   "outputs": [],
   "source": []
  }
 ],
 "metadata": {
  "kernelspec": {
   "display_name": "Python 3",
   "language": "python",
   "name": "python3"
  },
  "language_info": {
   "codemirror_mode": {
    "name": "ipython",
    "version": 3
   },
   "file_extension": ".py",
   "mimetype": "text/x-python",
   "name": "python",
   "nbconvert_exporter": "python",
   "pygments_lexer": "ipython3",
   "version": "3.8.5"
  },
  "toc-autonumbering": false,
  "toc-showcode": false,
  "toc-showmarkdowntxt": false,
  "widgets": {
   "state": {
    "0689152f16ed41dc8a8bcb723dd208ff": {
     "views": [
      {
       "cell_index": 12
      }
     ]
    },
    "26aa4e49158c4ac1849007468d752942": {
     "views": [
      {
       "cell_index": 5
      }
     ]
    },
    "2f4331df93e34013bb2c39527f242747": {
     "views": [
      {
       "cell_index": 12
      }
     ]
    },
    "44268e92f7a341398441a40371d4d52e": {
     "views": [
      {
       "cell_index": 12
      }
     ]
    },
    "865c7b14e4224de59bdedc2a153c180c": {
     "views": [
      {
       "cell_index": 12
      }
     ]
    },
    "875f47d176124605be1a53d9c460194d": {
     "views": [
      {
       "cell_index": 4
      }
     ]
    },
    "a7696b918cb04f9dba715f91419757d3": {
     "views": [
      {
       "cell_index": 5
      }
     ]
    },
    "a7856b7a541d49899761758860c70a33": {
     "views": [
      {
       "cell_index": 12
      }
     ]
    },
    "f3ec44c7464c43d6bb1b7c50fc36cceb": {
     "views": [
      {
       "cell_index": 5
      }
     ]
    },
    "f848a825e63a484f96afe2eaf70e7127": {
     "views": [
      {
       "cell_index": 5
      }
     ]
    }
   },
   "version": "1.2.0"
  }
 },
 "nbformat": 4,
 "nbformat_minor": 4
}
